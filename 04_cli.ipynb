{
 "cells": [
  {
   "cell_type": "markdown",
   "metadata": {},
   "source": [
    "# Simulation interface\n",
    "> Main simulation class and command line client\n",
    "\n",
    "Create a class which:\n",
    "\n",
    "* parses the configuration file\n",
    "* gets the channels that the user wants to simulate\n",
    "* loops through these and returns/writes the maps"
   ]
  },
  {
   "cell_type": "code",
   "execution_count": null,
   "metadata": {},
   "outputs": [],
   "source": [
    "# default_exp cli"
   ]
  },
  {
   "cell_type": "code",
   "execution_count": null,
   "metadata": {},
   "outputs": [],
   "source": [
    "%load_ext autoreload\n",
    "%autoreload 2"
   ]
  },
  {
   "cell_type": "code",
   "execution_count": null,
   "metadata": {},
   "outputs": [],
   "source": [
    "# export\n",
    "\n",
    "import os\n",
    "import toml\n",
    "import healpy as hp\n",
    "import numpy as np\n",
    "import h5py\n",
    "from pathlib import Path\n",
    "import logging as log\n",
    "from datetime import date\n",
    "\n",
    "from s4_design_sim_tool.core import get_telescope, parse_channels\n",
    "\n",
    "from s4_design_sim_tool import __version__\n",
    "\n",
    "from s4_design_sim_tool.foregrounds import load_sky_emission\n",
    "from s4_design_sim_tool.atmosphere import load_atmosphere, get_telecope_years\n",
    "from s4_design_sim_tool.noise import load_noise"
   ]
  },
  {
   "cell_type": "code",
   "execution_count": null,
   "metadata": {},
   "outputs": [],
   "source": [
    "# exports\n",
    "\n",
    "import hashlib\n",
    "\n",
    "\n",
    "def md5sum_string(string):\n",
    "    return hashlib.md5(string.encode(\"utf-8\")).hexdigest()\n",
    "\n",
    "\n",
    "def md5sum_file(filename):\n",
    "    \"\"\"Compute md5 checksum of the contents of a file\"\"\"\n",
    "    return md5sum_string(open(filename, \"r\").read())"
   ]
  },
  {
   "cell_type": "code",
   "execution_count": null,
   "metadata": {},
   "outputs": [],
   "source": [
    "console_md5sum = !md5sum s4_reference_design.toml"
   ]
  },
  {
   "cell_type": "code",
   "execution_count": null,
   "metadata": {},
   "outputs": [],
   "source": [
    "assert md5sum_file(\"s4_reference_design.toml\") == console_md5sum[0].split()[0]"
   ]
  },
  {
   "cell_type": "code",
   "execution_count": null,
   "metadata": {},
   "outputs": [],
   "source": [
    "# exports\n",
    "\n",
    "\n",
    "class S4RefSimTool:\n",
    "    def __init__(self, config_filename, output_folder=\"output\"):\n",
    "        \"\"\"Simulate CMB-S4 maps based on the experiment configuration\n",
    "\n",
    "        Parameters\n",
    "        ----------\n",
    "        config : filename\n",
    "            CMB-S4 configuration stored in a TOML file\n",
    "            see for example s4_reference_design.toml in the repository\n",
    "        output_folder : str or Path\n",
    "            Output path\n",
    "        \"\"\"\n",
    "        self.config_filename = config_filename\n",
    "        self.config = toml.load(self.config_filename)\n",
    "        self.output_filename_template = \"cmbs4_{tag}_KCMB_{telescope}-{band}_{site}_nside{nside}_{split}_of_{nsplits}.fits\"\n",
    "        self.output_folder = Path(output_folder)\n",
    "        self.output_folder.mkdir(parents=True, exist_ok=True)\n",
    "\n",
    "    def run(self, channels=\"all\", sites=[\"Pole\", \"Chile\"], write_outputs=True):\n",
    "        \"\"\"Run the simulation\n",
    "\n",
    "        Parameters\n",
    "        ----------\n",
    "        channels : str or list[str]\n",
    "            list of channel tags, e.g.\n",
    "            * [\"LFS1\", \"LFS2\"] or\n",
    "            * \"SAT\" or \"LAT\"\n",
    "            * \"all\" (default)\n",
    "        site : list[str]\n",
    "            ['Pole'] or ['Chile'], by default [\"Pole\", \"Chile\"]\n",
    "        write_outputs : bool\n",
    "            if True write the outputs to disk, if False return them (not implemented yet)\n",
    "        \"\"\"\n",
    "        nsplits = self.config[\"experiment\"].get(\"number_of_splits\", 1)\n",
    "        assert (\n",
    "            nsplits < 8\n",
    "        ), \"We currently only have 7 independent realizations of atmosphere and noise\"\n",
    "        for site in sites:\n",
    "            for channel in parse_channels(channels):\n",
    "\n",
    "                if get_telecope_years(self.config, site, channel) == 0:\n",
    "                    continue\n",
    "                telescope = get_telescope(channel)\n",
    "                subfolder = self.output_folder / f\"{telescope}-{channel}_{site.lower()}\"\n",
    "                subfolder.mkdir(parents=True, exist_ok=True)\n",
    "\n",
    "                log.info(f\"Simulate channel {channel} at {site}\")\n",
    "                sky_emission = load_sky_emission(\n",
    "                    self.config[\"sky_emission\"], site, channel\n",
    "                )\n",
    "                for split in range(nsplits + 1):\n",
    "                    nside = 512 if telescope == \"SAT\" else 4096\n",
    "                    output_filename = self.output_filename_template.format(\n",
    "                        nside=nside,\n",
    "                        telescope=telescope,\n",
    "                        band=channel,\n",
    "                        site=site.lower(),\n",
    "                        tag=\"sky_atmosphere_noise\",\n",
    "                        split=max(1, split),  # split=0 is full mission and we want 1\n",
    "                        nsplits=1 if split == 0 else nsplits,\n",
    "                    )\n",
    "                    if os.path.exists(subfolder / output_filename):\n",
    "                        log.info(\"File %s already exists, SKIP\", output_filename)\n",
    "                        continue\n",
    "                    output_map = load_atmosphere(\n",
    "                        self.config, site, channel, realization=split\n",
    "                    )\n",
    "                    output_map += load_noise(\n",
    "                        self.config, site, channel, realization=split\n",
    "                    )\n",
    "                    if split > 0:\n",
    "                        output_map *= np.sqrt(nsplits)\n",
    "                    output_map += sky_emission\n",
    "                    # Use UNSEEN instead of nan for missing pixels\n",
    "                    output_map[np.isnan(output_map)] = hp.UNSEEN\n",
    "                    if write_outputs:\n",
    "\n",
    "                        log.info(f\"Writing {output_filename}\")\n",
    "                        hp.write_map(\n",
    "                            subfolder / output_filename,\n",
    "                            output_map,\n",
    "                            column_units=\"K_CMB\",\n",
    "                            extra_header=[\n",
    "                                (\"SOFTWARE\", \"s4_design_sim_tool\"),\n",
    "                                (\"SW_VERS\", __version__),\n",
    "                                (\"SKY_VERS\", \"1.0\"),\n",
    "                                (\"ATM_VERS\", \"1.0\"),\n",
    "                                (\"NOI_VERS\", \"1.0\"),\n",
    "                                (\"SITE\", site),\n",
    "                                (\"SPLIT\", split),\n",
    "                                (\"NSPLITS\", nsplits),\n",
    "                                (\"CHANNEL\", channel),\n",
    "                                (\"DATE\", str(date.today())),\n",
    "                                (\"CONFMD5\", md5sum_file(self.config_filename)),\n",
    "                            ],\n",
    "                            coord=\"Q\",\n",
    "                            overwrite=True,\n",
    "                        )\n",
    "                    else:\n",
    "                        raise NotImplementedError(\"Only writing FITS output for now\")"
   ]
  },
  {
   "cell_type": "code",
   "execution_count": null,
   "metadata": {},
   "outputs": [],
   "source": [
    "# exports\n",
    "\n",
    "\n",
    "def command_line_script(args=None):\n",
    "\n",
    "    import logging as log\n",
    "\n",
    "    log.basicConfig(level=log.INFO)\n",
    "\n",
    "    import argparse\n",
    "\n",
    "    parser = argparse.ArgumentParser(description=\"Run s4_design_sim_tool\")\n",
    "    parser.add_argument(\"config\", type=str, help=\"Configuration file\")\n",
    "    parser.add_argument(\n",
    "        \"--channels\",\n",
    "        type=str,\n",
    "        help=\"Channels e.g. all, SAT, LAT, LFL1 or comma separated list of channels\",\n",
    "        required=False,\n",
    "        default=\"all\",\n",
    "    )\n",
    "    parser.add_argument(\n",
    "        \"--site\",\n",
    "        type=str,\n",
    "        help=\"Pole, Chile or all, default all\",\n",
    "        required=False,\n",
    "        default=\"all\",\n",
    "    )\n",
    "    parser.add_argument(\n",
    "        \"--output_folder\",\n",
    "        type=str,\n",
    "        help=\"Output folder, optional\",\n",
    "        required=False,\n",
    "        default=\"output\",\n",
    "    )\n",
    "    res = parser.parse_args(args)\n",
    "    if res.site == \"all\":\n",
    "        sites = [\"Chile\", \"Pole\"]\n",
    "    else:\n",
    "        sites = [res.site]\n",
    "    sim = S4RefSimTool(res.config, output_folder=res.output_folder)\n",
    "    sim.run(channels=res.channels, sites=sites)"
   ]
  },
  {
   "cell_type": "code",
   "execution_count": null,
   "metadata": {},
   "outputs": [],
   "source": [
    "log.basicConfig(level = log.INFO)"
   ]
  },
  {
   "cell_type": "code",
   "execution_count": null,
   "metadata": {},
   "outputs": [],
   "source": [
    "sim = S4RefSimTool(\"s4_reference_design.toml\")"
   ]
  },
  {
   "cell_type": "code",
   "execution_count": null,
   "metadata": {},
   "outputs": [],
   "source": [
    "%ls /global/cscratch1/sd/keskital/s4sim/reference_tool/out/00000000/*atmo*"
   ]
  },
  {
   "cell_type": "code",
   "execution_count": null,
   "metadata": {},
   "outputs": [],
   "source": [
    "sim.run(channels=\"LFS1\", sites=[\"Pole\"])"
   ]
  },
  {
   "cell_type": "code",
   "execution_count": null,
   "metadata": {},
   "outputs": [],
   "source": [
    "%matplotlib inline"
   ]
  },
  {
   "cell_type": "code",
   "execution_count": null,
   "metadata": {},
   "outputs": [],
   "source": [
    "from astropy.io import fits"
   ]
  },
  {
   "cell_type": "code",
   "execution_count": null,
   "metadata": {},
   "outputs": [],
   "source": [
    "output_map, header = hp.read_map(\n",
    "    \"output/SAT-LFS1_pole/cmbs4_sky_atmosphere_noise_KCMB_SAT-LFS1_pole_nside512_1_of_1.fits\", (0,1,2),\n",
    "h=True)"
   ]
  },
  {
   "cell_type": "code",
   "execution_count": null,
   "metadata": {},
   "outputs": [],
   "source": [
    "header"
   ]
  },
  {
   "cell_type": "code",
   "execution_count": null,
   "metadata": {},
   "outputs": [],
   "source": [
    "header_dict = {k:v for k,v in header}\n",
    "assert header_dict[\"SW_VERS\"] == __version__\n",
    "assert header_dict[\"SOFTWARE\"] == \"s4_design_sim_tool\""
   ]
  },
  {
   "cell_type": "code",
   "execution_count": null,
   "metadata": {},
   "outputs": [],
   "source": [
    "np.min(output_map[1][output_map[1] != hp.UNSEEN]), np.max(output_map[1])"
   ]
  },
  {
   "cell_type": "code",
   "execution_count": null,
   "metadata": {},
   "outputs": [],
   "source": [
    "assert np.min(output_map[1][output_map[1] != hp.UNSEEN]) > -1e-2 and np.max(output_map[1]) < 1e-2, \\\n",
    "    \"Amplitude check failed\""
   ]
  },
  {
   "cell_type": "code",
   "execution_count": null,
   "metadata": {},
   "outputs": [],
   "source": [
    "hp.mollview(output_map[0], min=-1e-4, max=1e-4, unit=\"K\", title=\"Total I\")"
   ]
  },
  {
   "cell_type": "code",
   "execution_count": null,
   "metadata": {},
   "outputs": [],
   "source": [
    "hp.mollview(output_map[1], min=-1e-5, max=1e-5, unit=\"K\", title=\"Total Q\")"
   ]
  },
  {
   "cell_type": "code",
   "execution_count": null,
   "metadata": {},
   "outputs": [],
   "source": [
    "hp.mollview(output_map[2], min=-1e-5, max=1e-5, unit=\"K\", title=\"Total U\")"
   ]
  },
  {
   "cell_type": "code",
   "execution_count": null,
   "metadata": {},
   "outputs": [],
   "source": []
  }
 ],
 "metadata": {
  "kernelspec": {
   "display_name": "condajupynersc",
   "language": "python",
   "name": "condajupynersc"
  }
 },
 "nbformat": 4,
 "nbformat_minor": 4
}
