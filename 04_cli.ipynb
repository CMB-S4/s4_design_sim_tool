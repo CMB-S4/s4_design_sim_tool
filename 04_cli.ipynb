{
 "cells": [
  {
   "cell_type": "markdown",
   "metadata": {},
   "source": [
    "# Simulation interface\n",
    "> Main simulation class and command line client\n",
    "\n",
    "Create a class which:\n",
    "\n",
    "* parses the configuration file\n",
    "* gets the channels that the user wants to simulate\n",
    "* and the number of splits\n",
    "* loops through these and returns/writes the maps"
   ]
  },
  {
   "cell_type": "code",
   "execution_count": null,
   "metadata": {},
   "outputs": [],
   "source": [
    "# default_exp cli"
   ]
  },
  {
   "cell_type": "code",
   "execution_count": null,
   "metadata": {},
   "outputs": [],
   "source": [
    "%load_ext autoreload\n",
    "%autoreload 2"
   ]
  },
  {
   "cell_type": "code",
   "execution_count": null,
   "metadata": {},
   "outputs": [],
   "source": [
    "# export\n",
    "\n",
    "import toml\n",
    "import healpy as hp\n",
    "import numpy as np\n",
    "import h5py\n",
    "from path import Path\n",
    "import logging as log\n",
    "\n",
    "from s4refsimtool.core import get_telescope, parse_channels\n",
    "\n",
    "from s4refsimtool import __version__\n",
    "\n",
    "from s4refsimtool.foregrounds import load_sky_emission\n",
    "from s4refsimtool.atmosphere import load_atmosphere, get_telecope_years\n",
    "from s4refsimtool.noise import load_noise"
   ]
  },
  {
   "cell_type": "code",
   "execution_count": null,
   "metadata": {},
   "outputs": [],
   "source": [
    "# exports\n",
    "\n",
    "\n",
    "class S4RefSimTool:\n",
    "    def __init__(self, config, output_folder=\"output\"):\n",
    "        \"\"\"Simulate CMB-S4 maps based on the experiment configuration\n",
    "\n",
    "        Parameters\n",
    "        ----------\n",
    "        config : filename\n",
    "            CMB-S4 configuration stored in a TOML file\n",
    "            see for example s4_reference_design.toml in the repository\n",
    "        output_folder : str or Path\n",
    "            Output path\n",
    "        \"\"\"\n",
    "        self.config = toml.load(config)\n",
    "        self.output_filename_template = (\n",
    "            \"cmbs4_{tag}_KCMB_{telescope}-{band}_nside{nside}_{split}_of_{nsplits}.fits\"\n",
    "        )\n",
    "        self.output_folder = Path(output_folder)\n",
    "\n",
    "    def run(\n",
    "        self, channels=\"all\", sites=[\"Pole\", \"Chile\"], nsplits=1, write_outputs=True\n",
    "    ):\n",
    "        \"\"\"Run the simulation\n",
    "\n",
    "        Parameters\n",
    "        ----------\n",
    "        channels : str or list[str]\n",
    "            list of channel tags, e.g.\n",
    "            * [\"LFS1\", \"LFS2\"] or\n",
    "            * \"SAT\" or \"LAT\"\n",
    "            * \"all\" (default)\n",
    "        site : list[str]\n",
    "            ['Pole'] or ['Chile'], by default [\"Pole\", \"Chile\"]\n",
    "        nsplits : int\n",
    "            Number of splits, 1 generates only full mission\n",
    "            2-7 generates the full mission map and then the requested number\n",
    "            of splits scaled accordingly. E.g. 7 generates the full mission\n",
    "            map and 7 equal (yearly) maps\n",
    "        write_outputs : bool\n",
    "            if True write the outputs to disk, if False return them (not implemented yet)\n",
    "        \"\"\"\n",
    "        assert (\n",
    "            nsplits < 8\n",
    "        ), \"We currently only have 7 independent realizations of atmosphere and noise\"\n",
    "        for site in sites:\n",
    "            for channel in parse_channels(channels):\n",
    "                if get_telecope_years(self.config, site, channel) == 0:\n",
    "                    continue\n",
    "                log.info(f\"Simulate channel {channel} at {site}\")\n",
    "                sky_emission = load_sky_emission(\n",
    "                    self.config[\"sky_emission\"], site, channel\n",
    "                )\n",
    "                for split in range(nsplits):\n",
    "                    output_map = load_atmosphere(\n",
    "                        self.config, site, channel, realization=split\n",
    "                    )\n",
    "                    output_map += load_noise(\n",
    "                        self.config, site, channel, realization=split\n",
    "                    )\n",
    "                    if split > 0:\n",
    "                        output_map *= np.sqrt(nsplits)\n",
    "                    output_map += sky_emission\n",
    "                    if write_outputs:\n",
    "                        output_filename = self.output_filename_template.format(\n",
    "                            nside=hp.npix2nside(len(output_map[0])),\n",
    "                            telescope=get_telescope(channel),\n",
    "                            band=channel,\n",
    "                            tag=\"sky_atmosphere_noise\",\n",
    "                            split=max(\n",
    "                                1, split\n",
    "                            ),  # split=0 is full mission and we want 1\n",
    "                            nsplits=nsplits,\n",
    "                        )\n",
    "                        log.info(f\"Writing {output_filename}\")\n",
    "                        hp.write_map(\n",
    "                            self.output_folder / output_filename,\n",
    "                            output_map,\n",
    "                            column_units=\"K_CMB\",\n",
    "                            extra_header={\"tool_version\": __version__},\n",
    "                            coord=\"Q\",\n",
    "                            overwrite=True,\n",
    "                        )\n",
    "                    else:\n",
    "                        raise NotImplementedError(\"Only writing FITS output for now\")"
   ]
  },
  {
   "cell_type": "code",
   "execution_count": null,
   "metadata": {},
   "outputs": [],
   "source": [
    "log.basicConfig(level = log.INFO)"
   ]
  },
  {
   "cell_type": "code",
   "execution_count": null,
   "metadata": {},
   "outputs": [],
   "source": [
    "sim = S4RefSimTool(\"s4_reference_design.toml\")"
   ]
  },
  {
   "cell_type": "code",
   "execution_count": null,
   "metadata": {},
   "outputs": [],
   "source": [
    "%ls /global/cscratch1/sd/keskital/s4sim/reference_tool/out/00000000/*atmo*"
   ]
  },
  {
   "cell_type": "code",
   "execution_count": null,
   "metadata": {},
   "outputs": [],
   "source": [
    "sim.run(channels=\"LFL1\", sites=[\"Chile\"])"
   ]
  },
  {
   "cell_type": "code",
   "execution_count": null,
   "metadata": {},
   "outputs": [],
   "source": [
    "%matplotlib inline"
   ]
  },
  {
   "cell_type": "code",
   "execution_count": null,
   "metadata": {},
   "outputs": [],
   "source": [
    "output_map = hp.read_map(\n",
    "    \"output/cmbs4_sky_atmosphere_noise_KCMB_LAT-LFL1_nside4096_1_of_1.fits\", (0,1,2))"
   ]
  },
  {
   "cell_type": "code",
   "execution_count": null,
   "metadata": {},
   "outputs": [],
   "source": [
    "hp.mollview(output_map[0], min=-1e-3, max=1e-3, unit=\"K\", title=\"Total I\")"
   ]
  },
  {
   "cell_type": "code",
   "execution_count": null,
   "metadata": {},
   "outputs": [],
   "source": [
    "hp.mollview(output_map[1], min=-1e-3, max=1e-3, unit=\"K\", title=\"Total Q\")"
   ]
  },
  {
   "cell_type": "code",
   "execution_count": null,
   "metadata": {},
   "outputs": [],
   "source": [
    "hp.mollview(output_map[2], min=-1e-3, max=1e-3, unit=\"K\", title=\"Total U\")"
   ]
  },
  {
   "cell_type": "code",
   "execution_count": null,
   "metadata": {},
   "outputs": [],
   "source": []
  },
  {
   "cell_type": "code",
   "execution_count": null,
   "metadata": {},
   "outputs": [],
   "source": []
  }
 ],
 "metadata": {
  "kernelspec": {
   "display_name": "condajupynersc",
   "language": "python",
   "name": "condajupynersc"
  }
 },
 "nbformat": 4,
 "nbformat_minor": 4
}
