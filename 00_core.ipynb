{
 "cells": [
  {
   "cell_type": "code",
   "execution_count": null,
   "metadata": {},
   "outputs": [],
   "source": [
    "# default_exp core"
   ]
  },
  {
   "cell_type": "markdown",
   "metadata": {},
   "source": [
    "# Core utilities\n",
    "\n",
    "> Utility functions and input folder"
   ]
  },
  {
   "cell_type": "code",
   "execution_count": null,
   "metadata": {},
   "outputs": [],
   "source": [
    "#hide\n",
    "from nbdev.showdoc import *"
   ]
  },
  {
   "cell_type": "code",
   "execution_count": null,
   "metadata": {},
   "outputs": [],
   "source": [
    "# export\n",
    "\n",
    "import os\n",
    "\n",
    "base_folder = os.environ.get(\n",
    "    \"S4REFSIMTOOL_INPUT\", \"/global/cfs/cdirs/cmbs4/dm/dstool/input/\"\n",
    ")"
   ]
  },
  {
   "cell_type": "code",
   "execution_count": null,
   "metadata": {},
   "outputs": [],
   "source": [
    "# export\n",
    "\n",
    "simulations_observing_efficiency = dict(\n",
    "    pole=dict(SAT=0.3931149305555555, LAT=0.321544537037037),\n",
    "    chile=dict(SAT=0.8656164351851852, LAT=0.917306712962963),\n",
    ")"
   ]
  },
  {
   "cell_type": "code",
   "execution_count": null,
   "metadata": {},
   "outputs": [],
   "source": [
    "#export\n",
    "\n",
    "\n",
    "def get_telescope(channel):\n",
    "    \"\"\"Identify if a channel is in SAT or LAT\n",
    "\n",
    "    Parameters\n",
    "    ----------\n",
    "    channel : str\n",
    "        channel tag, e.g. MFH1\n",
    "\n",
    "    Returns\n",
    "    -------\n",
    "    telescope : str\n",
    "        'SAT' or 'LAT'\n",
    "    \"\"\"\n",
    "    return channel[-2] + \"AT\""
   ]
  },
  {
   "cell_type": "code",
   "execution_count": null,
   "metadata": {},
   "outputs": [],
   "source": []
  }
 ],
 "metadata": {
  "kernelspec": {
   "display_name": "condajupynersc",
   "language": "python",
   "name": "condajupynersc"
  }
 },
 "nbformat": 4,
 "nbformat_minor": 4
}
