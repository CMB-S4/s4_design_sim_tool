{
 "cells": [
  {
   "cell_type": "code",
   "execution_count": null,
   "metadata": {},
   "outputs": [],
   "source": [
    "# default_exp core"
   ]
  },
  {
   "cell_type": "markdown",
   "metadata": {},
   "source": [
    "# s4refsimtool\n",
    "\n",
    "> API details."
   ]
  },
  {
   "cell_type": "code",
   "execution_count": null,
   "metadata": {},
   "outputs": [],
   "source": [
    "#hide\n",
    "from nbdev.showdoc import *"
   ]
  },
  {
   "cell_type": "code",
   "execution_count": null,
   "metadata": {},
   "outputs": [],
   "source": [
    "# export\n",
    "\n",
    "import os\n",
    "base_folder = os.environ.get(\"S4REFSIMTOOL_INPUT\",\n",
    "                             \"/global/cscratch1/sd/keskital/s4sim/reference_tool/out/\")"
   ]
  },
  {
   "cell_type": "code",
   "execution_count": null,
   "metadata": {},
   "outputs": [],
   "source": [
    "# export\n",
    "\n",
    "simulations_observing_efficiency = dict(\n",
    "    pole=dict(SAT=46.29 / 100, LAT=37.23 / 100), chile=dict()\n",
    ")"
   ]
  },
  {
   "cell_type": "code",
   "execution_count": null,
   "metadata": {},
   "outputs": [],
   "source": [
    "#export\n",
    "\n",
    "\n",
    "def get_telescope(channel):\n",
    "    \"\"\"Identify if a channel is in SAT or LAT\n",
    "\n",
    "    Parameters\n",
    "    ----------\n",
    "    channel : str\n",
    "        channel tag, e.g. MFH1\n",
    "\n",
    "    Returns\n",
    "    -------\n",
    "    telescope : str\n",
    "        'SAT' or 'LAT'\n",
    "    \"\"\"\n",
    "    return channel[-2] + \"AT\""
   ]
  },
  {
   "cell_type": "code",
   "execution_count": null,
   "metadata": {},
   "outputs": [],
   "source": [
    "# export\n",
    "\n",
    "import h5py\n",
    "\n",
    "s4 = h5py.File(\"cmbs4_tophat.h5\", \"r\")\n",
    "\n",
    "\n",
    "def parse_channels(channels):\n",
    "    if channels in [\"SAT\", \"LAT\"]:\n",
    "        channels = [ch for ch in s4.keys() if s4[ch].attrs[\"telescope\"] == channels]\n",
    "    elif channels in [\"all\", None]:\n",
    "        channels = list(s4.keys())\n",
    "    elif isinstance(channels, str):\n",
    "        channels = channels.split(\",\")\n",
    "    return channels"
   ]
  },
  {
   "cell_type": "code",
   "execution_count": null,
   "metadata": {},
   "outputs": [],
   "source": [
    "assert parse_channels(\"LFL1\") == [\"LFL1\"]\n",
    "assert parse_channels([\"LFL1\"]) == [\"LFL1\"]\n",
    "assert parse_channels(\"LFL1,LFL2\") == [\"LFL1\", \"LFL2\"]\n",
    "assert parse_channels(\"LAT\") == ['HFL1', 'HFL2', 'LFL1', 'LFL2', 'MFL1', 'MFL2', 'ULFL1']\n",
    "assert parse_channels(\"all\") == list(s4.keys())"
   ]
  },
  {
   "cell_type": "code",
   "execution_count": null,
   "metadata": {},
   "outputs": [],
   "source": []
  }
 ],
 "metadata": {
  "kernelspec": {
   "display_name": "Python 3",
   "language": "python",
   "name": "python3"
  }
 },
 "nbformat": 4,
 "nbformat_minor": 4
}
