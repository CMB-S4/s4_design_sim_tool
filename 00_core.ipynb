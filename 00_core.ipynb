{
 "cells": [
  {
   "cell_type": "code",
   "execution_count": null,
   "metadata": {},
   "outputs": [],
   "source": [
    "# default_exp core"
   ]
  },
  {
   "cell_type": "markdown",
   "metadata": {},
   "source": [
    "# Core utilities\n",
    "\n",
    "> Utility functions and input folder"
   ]
  },
  {
   "cell_type": "code",
   "execution_count": null,
   "metadata": {},
   "outputs": [],
   "source": [
    "#hide\n",
    "from nbdev.showdoc import *"
   ]
  },
  {
   "cell_type": "code",
   "execution_count": null,
   "metadata": {},
   "outputs": [],
   "source": [
    "# export\n",
    "\n",
    "import os\n",
    "\n",
    "base_folder = os.environ.get(\n",
    "    \"S4REFSIMTOOL_INPUT\", \"/global/cfs/cdirs/cmbs4/dm/dstool/input/\"\n",
    ")"
   ]
  },
  {
   "cell_type": "code",
   "execution_count": null,
   "metadata": {},
   "outputs": [],
   "source": [
    "# export\n",
    "\n",
    "simulations_observing_efficiency = dict(\n",
    "    pole=dict(SAT=0.3931149305555555, LAT=0.321544537037037),\n",
    "    chile=dict(SAT=0.8656164351851852, LAT=0.917306712962963),\n",
    ")"
   ]
  },
  {
   "cell_type": "code",
   "execution_count": null,
   "metadata": {},
   "outputs": [],
   "source": [
    "#export\n",
    "\n",
    "\n",
    "def get_telescope(channel):\n",
    "    \"\"\"Identify if a channel is in SAT or LAT\n",
    "\n",
    "    Parameters\n",
    "    ----------\n",
    "    channel : str\n",
    "        channel tag, e.g. MFH1\n",
    "\n",
    "    Returns\n",
    "    -------\n",
    "    telescope : str\n",
    "        'SAT' or 'LAT'\n",
    "    \"\"\"\n",
    "    return channel[-2] + \"AT\"\n",
    "\n",
    "\n",
    "def get_band(channel):\n",
    "    \"\"\"Identify the frequency band of a channel\n",
    "\n",
    "    Currently it is just removing the last character\n",
    "\n",
    "    Parameters\n",
    "    ----------\n",
    "    channel : str\n",
    "        channel tag, e.g. MFH1\n",
    "\n",
    "    Returns\n",
    "    -------\n",
    "    band : str\n",
    "        'MFH'\n",
    "    \"\"\"\n",
    "    return channel[:-1]\n",
    "\n",
    "\n",
    "def get_observing_efficiency(observing_efficiency_config, site, telescope, band):\n",
    "    \"\"\"Extract the observing frequency for a specific channel from\n",
    "    the configuration dictionary\n",
    "\n",
    "    Parameters\n",
    "    ----------\n",
    "    observing_efficiency_config : dict\n",
    "        the order of keys should be site, telescope, band\n",
    "        e.g. {\"Pole\":{\"LAT\":{\"HFL\":0.1}}, \"default\":0.2}\n",
    "    site : str\n",
    "        site, Pole or Chile\n",
    "    telescope : str\n",
    "        LAT or SAT\n",
    "    band: str\n",
    "        e.g. HFL\n",
    "\n",
    "    Returns\n",
    "    -------\n",
    "    observing_efficiency : float\n",
    "        observing efficiency in decimal form, for example .2 for 20%\n",
    "        \"\"\"\n",
    "    if site in observing_efficiency_config:\n",
    "        if telescope in observing_efficiency_config[site]:\n",
    "            try:\n",
    "                return observing_efficiency_config[site][telescope][band]\n",
    "            except KeyError:\n",
    "                try:\n",
    "                    return observing_efficiency_config[site][telescope][\"default\"]\n",
    "                except KeyError:\n",
    "                    pass\n",
    "        try:\n",
    "            return observing_efficiency_config[site][\"default\"]\n",
    "        except KeyError:\n",
    "            pass\n",
    "    return observing_efficiency_config[\"default\"]"
   ]
  },
  {
   "cell_type": "code",
   "execution_count": null,
   "metadata": {},
   "outputs": [],
   "source": [
    "observing_efficiency_config =  {\"Pole\":{\"LAT\":{\"HFL\":0.1}}, \"default\":0.2}"
   ]
  },
  {
   "cell_type": "code",
   "execution_count": null,
   "metadata": {},
   "outputs": [],
   "source": [
    "assert get_observing_efficiency(observing_efficiency_config, \"Pole\", \"LAT\", \"HFL\") == .1\n",
    "assert get_observing_efficiency(observing_efficiency_config, \"Pole\", \"LAT\", \"MFL\") == .2\n",
    "assert get_observing_efficiency(observing_efficiency_config, \"Chile\", \"LAT\", \"MFL\") == .2"
   ]
  },
  {
   "cell_type": "code",
   "execution_count": null,
   "metadata": {},
   "outputs": [],
   "source": [
    "observing_efficiency_config_telescope_default =  {\"Pole\":{\"LAT\":{\"HFL\":0.1, \"default\":.15}}, \"default\":0.2}\n",
    "\n",
    "assert get_observing_efficiency(observing_efficiency_config_telescope_default, \"Pole\", \"LAT\", \"HFL\") == .1\n",
    "assert get_observing_efficiency(observing_efficiency_config_telescope_default, \"Pole\", \"LAT\", \"MFL\") == .15"
   ]
  },
  {
   "cell_type": "code",
   "execution_count": null,
   "metadata": {},
   "outputs": [],
   "source": [
    "observing_efficiency_config_site_default =  {\"Pole\":{\"default\":.19, \"LAT\":{\"HFL\":0.1, \"default\":.15}}, \"default\":0.2}\n",
    "\n",
    "assert get_observing_efficiency(observing_efficiency_config_site_default, \"Pole\", \"LAT\", \"HFL\") == .1\n",
    "assert get_observing_efficiency(observing_efficiency_config_site_default, \"Pole\", \"LAT\", \"MFL\") == .15\n",
    "assert get_observing_efficiency(observing_efficiency_config_site_default, \"Pole\", \"SAT\", \"LFS\") == .19"
   ]
  },
  {
   "cell_type": "code",
   "execution_count": null,
   "metadata": {},
   "outputs": [],
   "source": []
  }
 ],
 "metadata": {
  "kernelspec": {
   "display_name": "condajupynersc",
   "language": "python",
   "name": "condajupynersc"
  }
 },
 "nbformat": 4,
 "nbformat_minor": 4
}
