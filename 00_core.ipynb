{
 "cells": [
  {
   "cell_type": "code",
   "execution_count": null,
   "metadata": {},
   "outputs": [],
   "source": [
    "# default_exp core"
   ]
  },
  {
   "cell_type": "markdown",
   "metadata": {},
   "source": [
    "# Core utilities\n",
    "\n",
    "> Utility functions and input folder"
   ]
  },
  {
   "cell_type": "code",
   "execution_count": null,
   "metadata": {},
   "outputs": [],
   "source": [
    "#hide\n",
    "from nbdev.showdoc import *"
   ]
  },
  {
   "cell_type": "code",
   "execution_count": null,
   "metadata": {},
   "outputs": [],
   "source": [
    "# export\n",
    "\n",
    "import os\n",
    "\n",
    "base_folder = os.environ.get(\n",
    "    \"S4REFSIMTOOL_INPUT\",\n",
    "    \"/global/cscratch1/sd/keskital/s4sim/reference_tool_round_2/out\",\n",
    ")"
   ]
  },
  {
   "cell_type": "code",
   "execution_count": null,
   "metadata": {},
   "outputs": [],
   "source": [
    "# export\n",
    "\n",
    "# computed from the hitmap, see 04_hitmap_wcov\n",
    "simulations_observing_efficiency = {\n",
    "    \"pole\": {\n",
    "        \"ULFPL1\": 0.7094065625,\n",
    "        \"LFPL1\": 0.7094065625,\n",
    "        \"LFPL2\": 0.7094065625,\n",
    "        \"MFPL1\": 0.7094065625,\n",
    "        \"MFPL2\": 0.7094065625,\n",
    "        \"HFPL1\": 0.7094065625,\n",
    "        \"HFPL2\": 0.7094065625,\n",
    "        \"LFS1\": 0.5410630787037037,\n",
    "        \"LFS2\": 0.5410630787037037,\n",
    "        \"MFLS1\": 0.5410630787037037,\n",
    "        \"MFHS1\": 0.5410630787037037,\n",
    "        \"MFLS2\": 0.5410630787037037,\n",
    "        \"MFHS2\": 0.5410630787037037,\n",
    "        \"HFS1\": 0.5410630787037037,\n",
    "        \"HFS2\": 0.5410630787037037,\n",
    "    },\n",
    "    \"chile\": {\n",
    "        \"LFL1\": 1.0367161458333334,\n",
    "        \"LFL2\": 1.0367161458333334,\n",
    "        \"MFL1\": 1.0367161458333334,\n",
    "        \"MFL2\": 1.0367161458333334,\n",
    "        \"HFL1\": 1.0350467156468064,\n",
    "        \"HFL2\": 1.0350467156468064,\n",
    "    },\n",
    "}\n",
    "\n",
    "mapmaking_naming = {\n",
    "    \"SAT\": \"telescope_all_time_all_filtered.fits.gz\",\n",
    "    \"LAT\": \"filtered_telescope_all_time_all_bmap.fits\",\n",
    "}\n",
    "\n",
    "simulated_tubes = dict(\n",
    "    LFS=1,\n",
    "    MFLS=1,\n",
    "    MFHS=1,\n",
    "    HFS=1,  # SAT\n",
    "    LFL=8,\n",
    "    MFL=54,\n",
    "    HFL=23,  # LAT Chile\n",
    "    ULFPL=4,\n",
    "    LFPL=9,\n",
    "    MFPL=54,\n",
    "    HFPL=18,  # LAT Pole\n",
    ")"
   ]
  },
  {
   "cell_type": "code",
   "execution_count": null,
   "metadata": {},
   "outputs": [],
   "source": [
    "#export\n",
    "\n",
    "from astropy.table import QTable\n",
    "\n",
    "def read_instrument_model(filename='instrument_model/cmbs4_instrument_model.tbl'):\n",
    "    \"\"\"Read the CMB-S4 instrument model\n",
    "    \n",
    "    Includes all instrument parameters with units except bandpasses\n",
    "    \n",
    "    Paramters\n",
    "    ---------\n",
    "    filename : str path\n",
    "        path to instrument model in ASCII IPAC format\n",
    "    Returns\n",
    "    -------\n",
    "    s4 : QTable\n",
    "        astropy table with units, 1 row per channel\n",
    "    \"\"\"\n",
    "    return QTable.read(filename, format='ascii.ipac')\n",
    "\n",
    "\n",
    "def get_telescope(channel):\n",
    "    \"\"\"Identify if a channel is in SAT or LAT\n",
    "\n",
    "    Parameters\n",
    "    ----------\n",
    "    channel : str\n",
    "        channel tag, e.g. MFH1\n",
    "\n",
    "    Returns\n",
    "    -------\n",
    "    telescope : str\n",
    "        'SAT' or 'LAT'\n",
    "    \"\"\"\n",
    "    return channel[-2] + \"AT\"\n",
    "\n",
    "\n",
    "def get_observing_efficiency(observing_efficiency_config, site, telescope, channel):\n",
    "    \"\"\"Extract the observing frequency for a specific channel from\n",
    "    the configuration dictionary\n",
    "\n",
    "    Parameters\n",
    "    ----------\n",
    "    observing_efficiency_config : dict\n",
    "        the order of keys should be site, telescope, channel\n",
    "        e.g. {\"Pole\":{\"LAT\":{\"HFL1\":0.1}}, \"default\":0.2}\n",
    "    site : str\n",
    "        site, Pole or Chile\n",
    "    telescope : str\n",
    "        LAT or SAT\n",
    "    channel: str\n",
    "        e.g. HFL1\n",
    "\n",
    "    Returns\n",
    "    -------\n",
    "    observing_efficiency : float\n",
    "        observing efficiency in decimal form, for example .2 for 20%\n",
    "        \"\"\"\n",
    "    if site in observing_efficiency_config:\n",
    "        if telescope in observing_efficiency_config[site]:\n",
    "            try:\n",
    "                return observing_efficiency_config[site][telescope][channel]\n",
    "            except KeyError:\n",
    "                try:\n",
    "                    return observing_efficiency_config[site][telescope][\"default\"]\n",
    "                except KeyError:\n",
    "                    pass\n",
    "        try:\n",
    "            return observing_efficiency_config[site][\"default\"]\n",
    "        except KeyError:\n",
    "            pass\n",
    "    return observing_efficiency_config[\"default\"]"
   ]
  },
  {
   "cell_type": "code",
   "execution_count": null,
   "metadata": {},
   "outputs": [],
   "source": [
    "observing_efficiency_config =  {\"Pole\":{\"LAT\":{\"HFL1\":0.1}}, \"default\":0.2}"
   ]
  },
  {
   "cell_type": "code",
   "execution_count": null,
   "metadata": {},
   "outputs": [],
   "source": [
    "assert get_observing_efficiency(observing_efficiency_config, \"Pole\", \"LAT\", \"HFL1\") == .1\n",
    "assert get_observing_efficiency(observing_efficiency_config, \"Pole\", \"LAT\", \"MFL1\") == .2\n",
    "assert get_observing_efficiency(observing_efficiency_config, \"Chile\", \"LAT\", \"MFL2\") == .2"
   ]
  },
  {
   "cell_type": "code",
   "execution_count": null,
   "metadata": {},
   "outputs": [],
   "source": [
    "observing_efficiency_config_telescope_default =  {\"Pole\":{\"LAT\":{\"HFL2\":0.1, \"default\":.15}}, \"default\":0.2}\n",
    "\n",
    "assert get_observing_efficiency(observing_efficiency_config_telescope_default, \"Pole\", \"LAT\", \"HFL2\") == .1\n",
    "assert get_observing_efficiency(observing_efficiency_config_telescope_default, \"Pole\", \"LAT\", \"MFL1\") == .15"
   ]
  },
  {
   "cell_type": "code",
   "execution_count": null,
   "metadata": {},
   "outputs": [],
   "source": [
    "observing_efficiency_config_site_default =  {\"Pole\":{\"default\":.19, \"LAT\":{\"HFL2\":0.1, \"default\":.15}}, \"default\":0.2}\n",
    "\n",
    "assert get_observing_efficiency(observing_efficiency_config_site_default, \"Pole\", \"LAT\", \"HFL2\") == .1\n",
    "assert get_observing_efficiency(observing_efficiency_config_site_default, \"Pole\", \"LAT\", \"MFL1\") == .15\n",
    "assert get_observing_efficiency(observing_efficiency_config_site_default, \"Pole\", \"SAT\", \"LFS1\") == .19"
   ]
  },
  {
   "cell_type": "code",
   "execution_count": null,
   "metadata": {},
   "outputs": [],
   "source": []
  }
 ],
 "metadata": {
  "kernelspec": {
   "display_name": "condajupynersc",
   "language": "python",
   "name": "condajupynersc"
  }
 },
 "nbformat": 4,
 "nbformat_minor": 4
}
