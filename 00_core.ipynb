{
 "cells": [
  {
   "cell_type": "code",
   "execution_count": null,
   "metadata": {},
   "outputs": [],
   "source": [
    "# default_exp core"
   ]
  },
  {
   "cell_type": "markdown",
   "metadata": {},
   "source": [
    "# s4refsimtool\n",
    "\n",
    "> API details."
   ]
  },
  {
   "cell_type": "code",
   "execution_count": null,
   "metadata": {},
   "outputs": [],
   "source": [
    "#hide\n",
    "from nbdev.showdoc import *"
   ]
  },
  {
   "cell_type": "code",
   "execution_count": null,
   "metadata": {},
   "outputs": [],
   "source": [
    "# export\n",
    "\n",
    "base_folder = \"/global/cscratch1/sd/keskital/s4sim/reference_tool/out/\""
   ]
  },
  {
   "cell_type": "code",
   "execution_count": null,
   "metadata": {},
   "outputs": [],
   "source": [
    "# export\n",
    "\n",
    "simulations_observing_efficiency = dict(\n",
    "    pole=dict(SAT=46.29 / 100, LAT=37.23 / 100), chile=dict()\n",
    ")"
   ]
  },
  {
   "cell_type": "code",
   "execution_count": null,
   "metadata": {},
   "outputs": [],
   "source": [
    "#export\n",
    "\n",
    "\n",
    "def get_telescope(channel):\n",
    "    \"\"\"Identify if a channel is in SAT or LAT\n",
    "\n",
    "    Parameters\n",
    "    ----------\n",
    "    channel : str\n",
    "        channel tag, e.g. MFH1\n",
    "\n",
    "    Returns\n",
    "    -------\n",
    "    telescope : str\n",
    "        'SAT' or 'LAT'\n",
    "    \"\"\"\n",
    "    return channel[-2] + \"AT\""
   ]
  }
 ],
 "metadata": {
  "kernelspec": {
   "display_name": "Python 3",
   "language": "python",
   "name": "python3"
  }
 },
 "nbformat": 4,
 "nbformat_minor": 4
}
