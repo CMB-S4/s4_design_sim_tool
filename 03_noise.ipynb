{
 "cells": [
  {
   "cell_type": "markdown",
   "metadata": {},
   "source": [
    "# Noise\n",
    "> Load and scale 1/f and white noise simulations\n",
    "- toc: True\n",
    "\n",
    "* They include white and 1/f noise\n",
    "* Simulated for 10 days, see note about efficiency for atmosphere\n",
    "* also have a thinning factor on the number of channels"
   ]
  },
  {
   "cell_type": "code",
   "execution_count": null,
   "metadata": {},
   "outputs": [],
   "source": [
    "# default_exp noise"
   ]
  },
  {
   "cell_type": "code",
   "execution_count": null,
   "metadata": {},
   "outputs": [],
   "source": [
    "import logging as log"
   ]
  },
  {
   "cell_type": "code",
   "execution_count": null,
   "metadata": {},
   "outputs": [],
   "source": [
    "# export\n",
    "\n",
    "import healpy as hp\n",
    "import numpy as np\n",
    "from pathlib import Path\n",
    "import logging as log\n",
    "\n",
    "from s4refsimtool.core import get_telescope, base_folder, simulations_observing_efficiency"
   ]
  },
  {
   "cell_type": "code",
   "execution_count": null,
   "metadata": {},
   "outputs": [],
   "source": [
    "# export\n",
    "\n",
    "thinfp_string = \"\"\"telescope  band   thinfp\n",
    "LAT        HFL      8\n",
    "LAT        MFL      8\n",
    "LAT        LFL      1\n",
    "LAT        ULFL     1\n",
    "SAT        HFS      8\n",
    "SAT        MFHS     4\n",
    "SAT        MFLS     4\n",
    "SAT        LFS      1\n",
    "\"\"\"\n",
    "\n",
    "from astropy.io import ascii\n",
    "\n",
    "thinfp_table = ascii.read(thinfp_string)"
   ]
  },
  {
   "cell_type": "code",
   "execution_count": null,
   "metadata": {},
   "outputs": [],
   "source": [
    "# exports\n",
    "\n",
    "\n",
    "def get_thinfp(channel):\n",
    "    \"\"\"Get the focal plane thinning factor for noise simulations\n",
    "\n",
    "    Parameters\n",
    "    ----------\n",
    "    channel : str\n",
    "        CMB-S4 channel tag e.g. HFL2\n",
    "\n",
    "    Returns\n",
    "    -------\n",
    "    thinfp : int\n",
    "        thinning factor\n",
    "    \"\"\"\n",
    "    return (thinfp_table[thinfp_table[\"band\"] == channel[:-1]])[\"thinfp\"]"
   ]
  },
  {
   "cell_type": "code",
   "execution_count": null,
   "metadata": {},
   "outputs": [],
   "source": [
    "assert get_thinfp(\"ULFL1\") == 1\n",
    "assert get_thinfp(\"HFL2\") == 8\n",
    "assert get_thinfp(\"MFLS1\") == 4"
   ]
  },
  {
   "cell_type": "code",
   "execution_count": null,
   "metadata": {},
   "outputs": [],
   "source": [
    "# exports\n",
    "\n",
    "\n",
    "def get_tube_years(config, site, channel):\n",
    "    \"\"\"Compute the number of tube/years in the CMB-S4 configuration\n",
    "\n",
    "    config_telescopes : dict\n",
    "        CMB-S4 telescopes configuration,\n",
    "        generally loaded from a TOML file\n",
    "    site : str\n",
    "        'Pole' or 'Chile', case doesn't matter\n",
    "    channel : str\n",
    "        Channel tag, e.g. 'MFHS1'\n",
    "    \"\"\"\n",
    "    tube_years = 0\n",
    "    for tube, bands in config[\"telescopes\"][get_telescope(channel)].items():\n",
    "        if bands[\"site\"].lower() == site.lower():\n",
    "            num_tubes = bands.get(channel[:-1], 0)\n",
    "            tube_years += num_tubes * bands.get(\n",
    "                \"years\", config[\"experiment\"][\"total_experiment_length_years\"]\n",
    "            )\n",
    "    return tube_years"
   ]
  },
  {
   "cell_type": "code",
   "execution_count": null,
   "metadata": {},
   "outputs": [],
   "source": [
    "import h5py\n",
    "\n",
    "s4 = h5py.File(\"cmbs4_tophat.h5\", 'r')"
   ]
  },
  {
   "cell_type": "code",
   "execution_count": null,
   "metadata": {},
   "outputs": [],
   "source": [
    "!tail -30 s4_reference_design.toml"
   ]
  },
  {
   "cell_type": "code",
   "execution_count": null,
   "metadata": {},
   "outputs": [],
   "source": [
    "import toml\n",
    "\n",
    "config = toml.load(\"s4_reference_design.toml\")"
   ]
  },
  {
   "cell_type": "code",
   "execution_count": null,
   "metadata": {},
   "outputs": [],
   "source": [
    "log.basicConfig(level=log.INFO)"
   ]
  },
  {
   "cell_type": "code",
   "execution_count": null,
   "metadata": {},
   "outputs": [],
   "source": [
    "for site in [\"Pole\", \"Chile\"]:\n",
    "    for channel in s4.keys():\n",
    "        tube_years = get_tube_years(config, site, channel)\n",
    "        print(site, channel, tube_years)\n",
    "        telescope = get_telescope(channel)\n",
    "        if site == \"Chile\":\n",
    "            if telescope == \"SAT\":\n",
    "                assert tube_years == 0, \"All SAT at Pole\"\n",
    "            elif channel.startswith(\"ULFL\"):\n",
    "                assert tube_years == 0, \"No ULFL in Chile\"              \n",
    "            else:\n",
    "                if channel.startswith(\"MFL\"):\n",
    "                    assert tube_years == 24*7, \"12+12 MFL channels\"\n",
    "        if site == \"Pole\":\n",
    "            if telescope == \"SAT\":\n",
    "                if channel.startswith(\"LFS\"):\n",
    "                    assert tube_years == 2*7, \"2 LFS Tubes\"\n",
    "                elif channel.startswith(\"MF\"):\n",
    "                    assert tube_years == 6*7, \"2 LFS Tubes\"                  \n",
    "            else:\n",
    "                if channel.startswith(\"HFL\"):\n",
    "                    assert tube_years == 4*7, \"4 HFL tubes\"            "
   ]
  },
  {
   "cell_type": "code",
   "execution_count": null,
   "metadata": {},
   "outputs": [],
   "source": [
    "# exports\n",
    "\n",
    "\n",
    "def load_noise(config, site, channel, realization=0):\n",
    "    \"\"\"Load noise maps for a channel\n",
    "\n",
    "    Parameters\n",
    "    ----------\n",
    "    config : dict\n",
    "        CMB-S4 configuration,\n",
    "        generally loaded from a TOML file\n",
    "    site : str\n",
    "        'Pole' or 'Chile', case doesn't matter\n",
    "    channel : str\n",
    "        Channel tag, e.g. 'MFHS1'\n",
    "    realization : int\n",
    "        Choose one of the available 8 realizations\n",
    "\n",
    "    Returns\n",
    "    -------\n",
    "    output_map : numpy array\n",
    "        Output map with all emissions combined, uses nan for missing pixels\n",
    "    \"\"\"\n",
    "    telescope = get_telescope(channel)\n",
    "    map_filename = (\n",
    "        Path(f\"{realization:08d}\")\n",
    "        / f\"{site.lower()}_noise_{telescope}_{channel}_filtered_telescope_all_time_all_bmap.fits\"\n",
    "    )\n",
    "    log.info(f\"Reading {map_filename}\")\n",
    "    output_map = hp.read_map(\n",
    "        Path(base_folder) / map_filename, (0, 1, 2), dtype=np.float32, verbose=False\n",
    "    )\n",
    "    output_map[output_map == hp.UNSEEN] = np.nan\n",
    "    # input map is 10 days at 100% efficiency\n",
    "    output_map *= 10 / (365.25 * config[\"experiment\"][\"observing_efficiency\"])\n",
    "    output_map *= get_tube_years(config, site, channel)\n",
    "    # pole sims have lower efficiency\n",
    "    output_map *= np.sqrt(\n",
    "        simulations_observing_efficiency[site.lower()].get(telescope, 1)\n",
    "    )\n",
    "    # focal plane thinning factor of TOD simulations\n",
    "    output_map /= np.sqrt(get_thinfp(channel))\n",
    "    return output_map"
   ]
  },
  {
   "cell_type": "markdown",
   "metadata": {},
   "source": [
    "## Available input maps"
   ]
  },
  {
   "cell_type": "code",
   "execution_count": null,
   "metadata": {},
   "outputs": [],
   "source": [
    "filenames = !ls /global/cscratch1/sd/keskital/s4sim/reference_tool/out/00000000/*noise*bmap*"
   ]
  },
  {
   "cell_type": "code",
   "execution_count": null,
   "metadata": {},
   "outputs": [],
   "source": [
    "import os.path\n",
    "for f in map(os.path.basename, filenames):\n",
    "    print(f)"
   ]
  },
  {
   "cell_type": "code",
   "execution_count": null,
   "metadata": {},
   "outputs": [],
   "source": [
    "channel = \"LFS1\"\n",
    "site = \"Pole\""
   ]
  },
  {
   "cell_type": "code",
   "execution_count": null,
   "metadata": {},
   "outputs": [],
   "source": [
    "output_map = load_noise(config, site, channel, realization=0)"
   ]
  },
  {
   "cell_type": "code",
   "execution_count": null,
   "metadata": {},
   "outputs": [],
   "source": [
    "np.nanmin(output_map), np.nanmax(output_map)"
   ]
  },
  {
   "cell_type": "code",
   "execution_count": null,
   "metadata": {},
   "outputs": [],
   "source": [
    "assert np.nanmax(output_map) < 1e-2 and np.nanmax(output_map) > 1e-3, \\\n",
    "    \"Amplitude check failed\""
   ]
  },
  {
   "cell_type": "code",
   "execution_count": null,
   "metadata": {},
   "outputs": [],
   "source": [
    "assert np.nanmin(output_map) > -1e-2 and np.nanmin(output_map) < 1e-3, \\\n",
    "    \"Amplitude check failed\""
   ]
  },
  {
   "cell_type": "code",
   "execution_count": null,
   "metadata": {},
   "outputs": [],
   "source": [
    "%matplotlib inline"
   ]
  },
  {
   "cell_type": "code",
   "execution_count": null,
   "metadata": {},
   "outputs": [],
   "source": [
    "hp.mollview(output_map[0], min=-1e-4, max=1e-4, unit=\"K\", title=\"Noise I\")"
   ]
  },
  {
   "cell_type": "code",
   "execution_count": null,
   "metadata": {},
   "outputs": [],
   "source": [
    "hp.mollview(output_map[1], min=-1e-4, max=1e-4, unit=\"K\", title=\"Noise Q\")"
   ]
  },
  {
   "cell_type": "code",
   "execution_count": null,
   "metadata": {},
   "outputs": [],
   "source": [
    "hp.mollview(output_map[2], min=-1e-4, max=1e-4, unit=\"K\", title=\"Noise U\")"
   ]
  },
  {
   "cell_type": "code",
   "execution_count": null,
   "metadata": {},
   "outputs": [],
   "source": []
  }
 ],
 "metadata": {
  "kernelspec": {
   "display_name": "condajupynersc",
   "language": "python",
   "name": "condajupynersc"
  }
 },
 "nbformat": 4,
 "nbformat_minor": 4
}
