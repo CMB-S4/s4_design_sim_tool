{
 "cells": [
  {
   "cell_type": "markdown",
   "metadata": {},
   "source": [
    "# Web interface `s4refsimtool`\n",
    "> Interactive web-based user interface for the CMB-S4 reference simulation tool"
   ]
  },
  {
   "cell_type": "code",
   "execution_count": null,
   "metadata": {},
   "outputs": [],
   "source": [
    "import ipywidgets as widgets\n",
    "from IPython.display import display"
   ]
  },
  {
   "cell_type": "code",
   "execution_count": null,
   "metadata": {},
   "outputs": [],
   "source": [
    "w = {}"
   ]
  },
  {
   "cell_type": "code",
   "execution_count": null,
   "metadata": {},
   "outputs": [],
   "source": [
    "for emission in [\"foreground_emission\", \"CMB_unlensed\", \"CMB_lensing_signal\"]:\n",
    "    w[emission] = widgets.BoundedFloatText(\n",
    "    value=1,\n",
    "    min=0,\n",
    "    max=1,\n",
    "    step=0.01,\n",
    "    description=f'{emission}:',\n",
    "        disabled=False\n",
    "    )"
   ]
  },
  {
   "cell_type": "code",
   "execution_count": null,
   "metadata": {},
   "outputs": [],
   "source": [
    "emission = \"CMB_tensor_to_scalar_ratio\"\n",
    "w[emission] = widgets.BoundedFloatText(\n",
    "    value=3e-3,\n",
    "    min=0,\n",
    "    max=1,\n",
    "    step=1e-5,\n",
    "    description=f'{emission}:',\n",
    "        disabled=False\n",
    "    )\n"
   ]
  },
  {
   "cell_type": "markdown",
   "metadata": {},
   "source": [
    "## Sky emission weighting\n",
    "\n",
    "Each sky emission has a weighting factor between 0 and 1\n",
    "\n",
    "### Foreground emission\n",
    "\n",
    "Synchrotron, Dust, Free-free, AME\n",
    "Websky CIB, tSZ, kSZ"
   ]
  },
  {
   "cell_type": "code",
   "execution_count": null,
   "metadata": {},
   "outputs": [],
   "source": [
    "display(w[\"foreground_emission\"])"
   ]
  },
  {
   "cell_type": "markdown",
   "metadata": {},
   "source": [
    "### Unlensed CMB\n",
    "Planck cosmological parameters, no tensor modes"
   ]
  },
  {
   "cell_type": "code",
   "execution_count": null,
   "metadata": {},
   "outputs": [],
   "source": [
    "display(w[\"CMB_unlensed\"])"
   ]
  },
  {
   "cell_type": "markdown",
   "metadata": {},
   "source": [
    "### CMB lensing signal\n",
    "\n",
    "CMB lensed - CMB unlensed:\n",
    "* 1 for lensed CMB\n",
    "* 0 for unlensed CMB\n",
    "* `>0, <1` for residual after de-lensing"
   ]
  },
  {
   "cell_type": "code",
   "execution_count": null,
   "metadata": {},
   "outputs": [],
   "source": [
    "display(w[\"CMB_lensing_signal\"])"
   ]
  },
  {
   "cell_type": "markdown",
   "metadata": {},
   "source": [
    "### CMB tensor to scalar ratio\n",
    "\n",
    "Value of the `r` cosmological parameter"
   ]
  },
  {
   "cell_type": "code",
   "execution_count": null,
   "metadata": {},
   "outputs": [],
   "source": [
    "display(w[\"CMB_tensor_to_scalar_ratio\"])"
   ]
  },
  {
   "cell_type": "markdown",
   "metadata": {},
   "source": [
    "## Experiment parameters\n",
    "\n",
    "### Total experiment length\n",
    "\n",
    "In years, supports decimals"
   ]
  },
  {
   "cell_type": "code",
   "execution_count": null,
   "metadata": {},
   "outputs": [],
   "source": [
    "w[\"total_experiment_length_years\"] = widgets.BoundedFloatText(\n",
    "    value=7,\n",
    "    min=0,\n",
    "    max=15,\n",
    "    step=0.1,\n",
    "    description='Years:',\n",
    "        disabled=False\n",
    "    )"
   ]
  },
  {
   "cell_type": "code",
   "execution_count": null,
   "metadata": {},
   "outputs": [],
   "source": [
    "display(w[\"total_experiment_length_years\"])"
   ]
  },
  {
   "cell_type": "code",
   "execution_count": null,
   "metadata": {},
   "outputs": [],
   "source": [
    "w[\"observing_efficiency\"] = widgets.BoundedFloatText(\n",
    "    value=0.2,\n",
    "    min=0,\n",
    "    max=1,\n",
    "    step=0.01,\n",
    "    description='Efficiency:',\n",
    "        disabled=False\n",
    "    )"
   ]
  },
  {
   "cell_type": "markdown",
   "metadata": {},
   "source": [
    "### Observing efficiency\n",
    "\n",
    "Typically 20%, use decimal notation"
   ]
  },
  {
   "cell_type": "code",
   "execution_count": null,
   "metadata": {},
   "outputs": [],
   "source": [
    "display(w[\"observing_efficiency\"])"
   ]
  },
  {
   "cell_type": "code",
   "execution_count": null,
   "metadata": {},
   "outputs": [],
   "source": [
    "w[\"number_of_splits\"] = widgets.BoundedFloatText(\n",
    "    value=1,\n",
    "    min=1,\n",
    "    max=7,\n",
    "    step=1,\n",
    "    description='Splits:',\n",
    "        disabled=False\n",
    "    )"
   ]
  },
  {
   "cell_type": "markdown",
   "metadata": {},
   "source": [
    "### Number of splits\n",
    "\n",
    "Number of splits, 1 generates only full mission\n",
    "2-7 generates the full mission map and then the requested number\n",
    "of splits scaled accordingly. E.g. 7 generates the full mission\n",
    "map and 7 equal (yearly) maps"
   ]
  },
  {
   "cell_type": "code",
   "execution_count": null,
   "metadata": {},
   "outputs": [],
   "source": [
    "display(w[\"number_of_splits\"])"
   ]
  },
  {
   "cell_type": "markdown",
   "metadata": {},
   "source": [
    "## Telescope configuration\n",
    "\n",
    "Currently we constraint to have a total of 6 SAT and 3 LAT,\n",
    "each SAT has a maximum of 3 tubes, each LAT of 19.\n",
    "The checkbox on the right of each telescope checks that the amount of number of tubes is correct."
   ]
  },
  {
   "cell_type": "code",
   "execution_count": null,
   "metadata": {},
   "outputs": [],
   "source": [
    "import toml\n",
    "config = toml.load(\"s4_reference_design.toml\")"
   ]
  },
  {
   "cell_type": "code",
   "execution_count": null,
   "metadata": {},
   "outputs": [],
   "source": [
    "def define_check_sum(telescope_widgets, max_tubes):\n",
    "    def check_sum(_):\n",
    "        total_tubes = sum([w.value for w in telescope_widgets[1:1+4]])\n",
    "        telescope_widgets[0].value = total_tubes == max_tubes\n",
    "    return check_sum"
   ]
  },
  {
   "cell_type": "code",
   "execution_count": null,
   "metadata": {},
   "outputs": [],
   "source": [
    "telescopes = {\"SAT\":{}, \"LAT\":{}}\n",
    "for telescope, tubes in config[\"telescopes\"][\"SAT\"].items():\n",
    "    telescopes[\"SAT\"][telescope] = [widgets.Valid(\n",
    "    value=True, description=telescope, layout=widgets.Layout(width='120px')\n",
    "    )]\n",
    "    telescope_check = define_check_sum(telescopes[\"SAT\"][telescope], 3)\n",
    "    for k,v in tubes.items():\n",
    "        if k == \"site\":\n",
    "            wid = widgets.Dropdown(\n",
    "            options=['Pole', 'Chile'],\n",
    "            value=v,\n",
    "            description=k,\n",
    "            disabled=False, layout=widgets.Layout(width='200px')\n",
    "            )\n",
    "        elif k == \"years\":\n",
    "            wid = widgets.BoundedFloatText(\n",
    "    value=v,\n",
    "    min=0,\n",
    "    max=20,\n",
    "    step=0.1,\n",
    "    description='years',\n",
    "        disabled=False, layout=widgets.Layout(width='120px')\n",
    "    )\n",
    "        else:\n",
    "            \n",
    "            wid = widgets.BoundedIntText(\n",
    "    value=v,\n",
    "    min=0,\n",
    "    max=3,\n",
    "    step=1,\n",
    "    description=k,\n",
    "    disabled=False, layout=widgets.Layout(width='120px')\n",
    "            ) \n",
    "            wid.observe(telescope_check)\n",
    "        telescopes[\"SAT\"][telescope].append(wid)"
   ]
  },
  {
   "cell_type": "code",
   "execution_count": null,
   "metadata": {},
   "outputs": [],
   "source": [
    "for k, v in telescopes[\"SAT\"].items():\n",
    "    display(widgets.HBox(v))"
   ]
  },
  {
   "cell_type": "code",
   "execution_count": null,
   "metadata": {},
   "outputs": [],
   "source": [
    "for telescope, tubes in config[\"telescopes\"][\"LAT\"].items():\n",
    "    telescopes[\"LAT\"][telescope] = [widgets.Valid(\n",
    "    value=True, description=telescope, layout=widgets.Layout(width='120px')\n",
    "    )]\n",
    "    telescope_check = define_check_sum(telescopes[\"LAT\"][telescope], 19)\n",
    "    for k,v in tubes.items():\n",
    "        if k == \"site\":\n",
    "            wid = widgets.Dropdown(\n",
    "            options=['Pole', 'Chile'],\n",
    "            value=v,\n",
    "            description=k,\n",
    "            disabled=False, layout=widgets.Layout(width='200px')\n",
    "            )\n",
    "        elif k == \"years\":\n",
    "            wid = widgets.BoundedFloatText(\n",
    "    value=v,\n",
    "    min=0,\n",
    "    max=20,\n",
    "    step=0.1,\n",
    "    description='years',\n",
    "        disabled=False, layout=widgets.Layout(width='130px')\n",
    "    )\n",
    "        else:\n",
    "            \n",
    "            wid = widgets.BoundedIntText(\n",
    "    value=v,\n",
    "    min=0,\n",
    "    max=19,\n",
    "    step=1,\n",
    "    description=k,\n",
    "    disabled=False, layout=widgets.Layout(width='130px')\n",
    "            ) \n",
    "            wid.observe(telescope_check)\n",
    "        telescopes[\"LAT\"][telescope].append(wid)"
   ]
  },
  {
   "cell_type": "code",
   "execution_count": null,
   "metadata": {},
   "outputs": [],
   "source": [
    "for k, v in telescopes[\"LAT\"].items():\n",
    "    display(widgets.HBox(v))"
   ]
  },
  {
   "cell_type": "code",
   "execution_count": null,
   "metadata": {},
   "outputs": [],
   "source": [
    "import toml"
   ]
  },
  {
   "cell_type": "code",
   "execution_count": null,
   "metadata": {},
   "outputs": [],
   "source": [
    "def generate_toml():\n",
    "    output_config = {}\n",
    "    for section in [\"sky_emission\", \"experiment\"]:\n",
    "        output_config[section] = {}\n",
    "        for k in config[section]:\n",
    "            output_config[section][k] = w[k].value\n",
    "    output_config[\"telescopes\"] = {\"SAT\":{}, \"LAT\":{}}\n",
    "    for t in [\"SAT\", \"LAT\"]:\n",
    "        for telescope, tubes in telescopes[t].items():\n",
    "            output_config[\"telescopes\"][t][telescope] = toml._get_empty_inline_table(dict)\n",
    "            for tube_type in tubes[1:]:\n",
    "                output_config[\"telescopes\"][t][telescope][tube_type.description] = tube_type.value\n",
    "                if tube_type.description == \"years\":\n",
    "                    output_config[\"telescopes\"][t][telescope][tube_type.description] = int(tube_type.value)\n",
    "    return toml.dumps(output_config, preserve=True)"
   ]
  },
  {
   "cell_type": "markdown",
   "metadata": {},
   "source": [
    "## Generate a TOML configuration file\n",
    "\n",
    "Click on the button to generate the TOML file and display it."
   ]
  },
  {
   "cell_type": "code",
   "execution_count": null,
   "metadata": {},
   "outputs": [],
   "source": [
    "button = widgets.Button(\n",
    "    description='Generate TOML',\n",
    "    disabled=False,\n",
    "    button_style='info', # 'success', 'info', 'warning', 'danger' or ''\n",
    "    tooltip='Click me',\n",
    "    icon='check'\n",
    ")\n",
    "output = widgets.Output(layout={'border': '1px solid black'})\n",
    "\n",
    "display(button, output)\n",
    "\n",
    "def on_button_clicked(b):\n",
    "    output.clear_output()\n",
    "    with output:\n",
    "        print(generate_toml())\n",
    "\n",
    "button.on_click(on_button_clicked)"
   ]
  }
 ],
 "metadata": {
  "kernelspec": {
   "display_name": "condajupynersc",
   "language": "python",
   "name": "condajupynersc"
  }
 },
 "nbformat": 4,
 "nbformat_minor": 4
}
