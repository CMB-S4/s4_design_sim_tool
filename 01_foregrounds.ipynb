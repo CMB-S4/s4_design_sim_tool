{
 "cells": [
  {
   "cell_type": "code",
   "execution_count": null,
   "metadata": {},
   "outputs": [],
   "source": [
    "# default_exp foregrounds"
   ]
  },
  {
   "cell_type": "markdown",
   "metadata": {},
   "source": [
    "# Foregrounds\n",
    "> Load extragalactic, galactic and CMB maps\n",
    "- toc: True"
   ]
  },
  {
   "cell_type": "code",
   "execution_count": null,
   "metadata": {},
   "outputs": [],
   "source": [
    "# export\n",
    "\n",
    "import healpy as hp\n",
    "import numpy as np\n",
    "\n",
    "from pathlib import Path\n",
    "import logging as log\n",
    "\n",
    "from s4_design_sim_tool.core import get_telescope, base_folder, mapmaking_naming, read_instrument_model"
   ]
  },
  {
   "cell_type": "code",
   "execution_count": null,
   "metadata": {},
   "outputs": [],
   "source": [
    "# export\n",
    "\n",
    "emission_naming = dict(\n",
    "    foreground_emission=\"combined_foregrounds\",\n",
    "    CMB_unlensed=\"cmb_unlensed_solardipole\",\n",
    "    CMB_lensing_signal=\"cmb_lensing_signal\",\n",
    "    CMB_tensor_to_scalar_ratio=\"cmb_tensor\",\n",
    ")"
   ]
  },
  {
   "cell_type": "markdown",
   "metadata": {},
   "source": [
    "## Sky emission"
   ]
  },
  {
   "cell_type": "code",
   "execution_count": null,
   "metadata": {},
   "outputs": [],
   "source": [
    "# exports\n",
    "\n",
    "\n",
    "def load_sky_emission(config_sky_emission, site, channel):\n",
    "    \"\"\"Load foreground maps for a channel\n",
    "\n",
    "    Parameters\n",
    "    ----------\n",
    "    config_sky_emission : dict\n",
    "        CMB-S4 sky emission configuration,\n",
    "        generally config['sky_emission'] for a configuration\n",
    "        loaded from a TOML file\n",
    "        dictionary with standard emission names and their weights\n",
    "    site : str\n",
    "        'Pole' or 'Chile', case doesn't matter\n",
    "    channel : str\n",
    "        Channel tag, e.g. 'MFHS1'\n",
    "\n",
    "    Returns\n",
    "    -------\n",
    "    output_map : numpy array\n",
    "        Output map with all emissions combined, uses nan for missing pixels\n",
    "    \"\"\"\n",
    "    log.info(\"Configuration %s\", str(config_sky_emission))\n",
    "    telescope = get_telescope(channel)\n",
    "    nside = 512 if telescope == \"SAT\" else 4096\n",
    "    npix = hp.nside2npix(nside)\n",
    "    output_map = np.zeros((3, npix), dtype=np.float32)\n",
    "    realization = 0  # foregrounds are deterministic\n",
    "    for emission, weight in config_sky_emission.items():\n",
    "        if weight == 0:\n",
    "            log.info(\"Skip %s\", emission)\n",
    "            continue\n",
    "        log.info(\"Processing %s\", emission)\n",
    "\n",
    "        emission_map = hp.read_map(\n",
    "            Path(base_folder)\n",
    "            / f\"{realization:08d}\"\n",
    "            / f\"{site.lower()}_{emission_naming[emission]}_{telescope}_{channel}_{mapmaking_naming[telescope]}\",\n",
    "            (0, 1, 2),\n",
    "            dtype=None,\n",
    "            verbose=False,\n",
    "        )\n",
    "        emission_map[emission_map == 0] = np.nan\n",
    "        emission_map[emission_map == hp.UNSEEN] = np.nan\n",
    "\n",
    "        if emission == \"CMB_tensor_to_scalar_ratio\":\n",
    "            # input maps are simulated with r=3e-3\n",
    "            # tensor-to-scalar ratio is defined in the power spectrum, we need to weight the maps with the square root\n",
    "            weight = np.sqrt(weight / 3e-3)\n",
    "        output_map += emission_map * weight\n",
    "\n",
    "    output_map /= 1e6  # uK -> K\n",
    "    return output_map"
   ]
  },
  {
   "cell_type": "code",
   "execution_count": null,
   "metadata": {},
   "outputs": [],
   "source": [
    "import toml\n",
    "\n",
    "config = toml.load(\"s4_reference_design.toml\")"
   ]
  },
  {
   "cell_type": "code",
   "execution_count": null,
   "metadata": {},
   "outputs": [],
   "source": [
    "s4 = read_instrument_model()"
   ]
  },
  {
   "cell_type": "code",
   "execution_count": null,
   "metadata": {},
   "outputs": [],
   "source": [
    "s4"
   ]
  },
  {
   "cell_type": "code",
   "execution_count": null,
   "metadata": {},
   "outputs": [],
   "source": [
    "log.basicConfig(level=log.INFO)"
   ]
  },
  {
   "cell_type": "code",
   "execution_count": null,
   "metadata": {},
   "outputs": [],
   "source": [
    "## inputs\n",
    "\n",
    "ch = \"LFS1\"\n",
    "site = \"Pole\""
   ]
  },
  {
   "cell_type": "code",
   "execution_count": null,
   "metadata": {},
   "outputs": [],
   "source": [
    "output_map = load_sky_emission(config[\"sky_emission\"], site, ch)"
   ]
  },
  {
   "cell_type": "code",
   "execution_count": null,
   "metadata": {},
   "outputs": [],
   "source": [
    "assert len(output_map[output_map == hp.UNSEEN]) == 0, \\\n",
    "    \"We should be using nan not UNSEEN to simplify summing\""
   ]
  },
  {
   "cell_type": "code",
   "execution_count": null,
   "metadata": {},
   "outputs": [],
   "source": [
    "np.nanmin(output_map), np.nanmax(output_map)"
   ]
  },
  {
   "cell_type": "code",
   "execution_count": null,
   "metadata": {},
   "outputs": [],
   "source": [
    "assert np.nanmax(output_map) > 1e-4 and np.nanmax(output_map) < 1e-2, \"Rough unit check\""
   ]
  },
  {
   "cell_type": "code",
   "execution_count": null,
   "metadata": {},
   "outputs": [],
   "source": [
    "%matplotlib inline"
   ]
  },
  {
   "cell_type": "code",
   "execution_count": null,
   "metadata": {},
   "outputs": [],
   "source": [
    "hp.mollview(output_map[0], min=-1e-4, max=1e-4, unit=\"K\", title=\"Foregrounds I\")"
   ]
  },
  {
   "cell_type": "code",
   "execution_count": null,
   "metadata": {},
   "outputs": [],
   "source": [
    "hp.mollview(output_map[1], min=-1e-5, max=1e-5, unit=\"K\", title=\"Foregrounds Q\")"
   ]
  },
  {
   "cell_type": "code",
   "execution_count": null,
   "metadata": {},
   "outputs": [],
   "source": [
    "hp.mollview(output_map[2], min=-1e-5, max=1e-5, unit=\"K\", title=\"Foregrounds U\")"
   ]
  },
  {
   "cell_type": "code",
   "execution_count": null,
   "metadata": {},
   "outputs": [],
   "source": []
  }
 ],
 "metadata": {
  "kernelspec": {
   "display_name": "condajupynersc",
   "language": "python",
   "name": "condajupynersc"
  }
 },
 "nbformat": 4,
 "nbformat_minor": 4
}
