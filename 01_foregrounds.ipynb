{
 "cells": [
  {
   "cell_type": "code",
   "execution_count": null,
   "metadata": {},
   "outputs": [],
   "source": [
    "# default_exp foregrounds"
   ]
  },
  {
   "cell_type": "markdown",
   "metadata": {},
   "source": [
    "# Foregrounds\n",
    "> Load extragalactic, galactic and CMB maps\n",
    "- toc: True"
   ]
  },
  {
   "cell_type": "code",
   "execution_count": null,
   "metadata": {},
   "outputs": [],
   "source": [
    "# export\n",
    "\n",
    "import healpy as hp\n",
    "import numpy as np\n",
    "\n",
    "from path import Path\n",
    "import logging as log\n",
    "\n",
    "from s4refsimtool.core import get_telescope, base_folder"
   ]
  },
  {
   "cell_type": "code",
   "execution_count": null,
   "metadata": {},
   "outputs": [],
   "source": [
    "# export\n",
    "\n",
    "emission_naming = dict(\n",
    "    foreground_emission=\"foreground\",\n",
    "    CMB_unlensed=\"cmb-unlensed\",\n",
    "    CMB_lensing_signal=\"cmb-lensing\",\n",
    "    CMB_tensor_to_scalar_ratio=\"cmb-tensors\",\n",
    ")"
   ]
  },
  {
   "cell_type": "markdown",
   "metadata": {},
   "source": [
    "## Sky emission"
   ]
  },
  {
   "cell_type": "code",
   "execution_count": null,
   "metadata": {},
   "outputs": [],
   "source": [
    "# exports\n",
    "\n",
    "\n",
    "def load_sky_emission(config_sky_emission, site, channel):\n",
    "    \"\"\"Load foreground maps for a channel\n",
    "\n",
    "    Parameters\n",
    "    ----------\n",
    "    config_sky_emission : dict\n",
    "        CMB-S4 sky emission configuration,\n",
    "        generally config['sky_emission'] for a configuration\n",
    "        loaded from a TOML file\n",
    "        dictionary with standard emission names and their weights\n",
    "    site : str\n",
    "        'Pole' or 'Chile', case doesn't matter\n",
    "    channel : str\n",
    "        Channel tag, e.g. 'MFHS1'\n",
    "\n",
    "    Returns\n",
    "    -------\n",
    "    output_map : numpy array\n",
    "        Output map with all emissions combined, uses nan for missing pixels\n",
    "    \"\"\"\n",
    "    telescope = get_telescope(channel)\n",
    "    nside = 512 if telescope == \"SAT\" else 4096\n",
    "    npix = hp.nside2npix(nside)\n",
    "    output_map = np.zeros((3, npix), dtype=np.float32)\n",
    "    realization = 0  # foregrounds are deterministic\n",
    "    for emission, weight in config_sky_emission.items():\n",
    "        if weight == 0:\n",
    "            log.info(\"Skip %s\", emission)\n",
    "            continue\n",
    "        log.info(\"Processing %s\", emission)\n",
    "\n",
    "        emission_map = hp.read_map(\n",
    "            Path(base_folder)\n",
    "            / f\"{realization:08d}\"\n",
    "            / f\"{site.lower()}_{emission_naming[emission]}_{telescope}_{channel}_filtered_telescope_all_time_all_bmap.fits\",\n",
    "            (0, 1, 2),\n",
    "            verbose=False,\n",
    "        )\n",
    "        emission_map[emission_map == hp.UNSEEN] = np.nan\n",
    "        if emission == \"CMB_tensor_to_scalar_ratio\":\n",
    "            weight /= 0.01  # r of the input maps\n",
    "        output_map += emission_map * weight\n",
    "\n",
    "    output_map /= 1e6  # uK -> K\n",
    "    return output_map"
   ]
  },
  {
   "cell_type": "code",
   "execution_count": null,
   "metadata": {},
   "outputs": [],
   "source": [
    "import toml\n",
    "\n",
    "config = toml.load(\"s4_reference_design.toml\")"
   ]
  },
  {
   "cell_type": "code",
   "execution_count": null,
   "metadata": {},
   "outputs": [],
   "source": [
    "import h5py\n",
    "\n",
    "s4 = h5py.File(\"cmbs4_tophat.h5\", 'r')"
   ]
  },
  {
   "cell_type": "code",
   "execution_count": null,
   "metadata": {},
   "outputs": [],
   "source": [
    "for each in s4.keys():\n",
    "    print(each, s4[each].attrs[\"center_frequency_GHz\"])"
   ]
  },
  {
   "cell_type": "code",
   "execution_count": null,
   "metadata": {},
   "outputs": [],
   "source": [
    "log.basicConfig(level=log.INFO)"
   ]
  },
  {
   "cell_type": "code",
   "execution_count": null,
   "metadata": {},
   "outputs": [],
   "source": [
    "## inputs\n",
    "\n",
    "ch = \"LFS1\"\n",
    "site = \"Pole\""
   ]
  },
  {
   "cell_type": "code",
   "execution_count": null,
   "metadata": {},
   "outputs": [],
   "source": [
    "output_map = load_sky_emission(config[\"sky_emission\"], site, ch)"
   ]
  },
  {
   "cell_type": "code",
   "execution_count": null,
   "metadata": {},
   "outputs": [],
   "source": [
    "assert len(output_map[output_map == hp.UNSEEN]) == 0, \\\n",
    "    \"We should be using nan not UNSEEN to simplify summing\""
   ]
  },
  {
   "cell_type": "code",
   "execution_count": null,
   "metadata": {},
   "outputs": [],
   "source": [
    "np.nanmin(output_map), np.nanmax(output_map)"
   ]
  },
  {
   "cell_type": "code",
   "execution_count": null,
   "metadata": {},
   "outputs": [],
   "source": [
    "assert np.nanmax(output_map) > 1e-4 and np.nanmax(output_map) < 1e-3, \"Rough unit check\""
   ]
  },
  {
   "cell_type": "code",
   "execution_count": null,
   "metadata": {},
   "outputs": [],
   "source": [
    "%matplotlib inline"
   ]
  },
  {
   "cell_type": "code",
   "execution_count": null,
   "metadata": {},
   "outputs": [],
   "source": [
    "hp.mollview(output_map[0], min=-1e-4, max=1e-4, unit=\"K\", title=\"Foregrounds I\")"
   ]
  },
  {
   "cell_type": "code",
   "execution_count": null,
   "metadata": {},
   "outputs": [],
   "source": [
    "hp.mollview(output_map[1], min=-1e-5, max=1e-5, unit=\"K\", title=\"Foregrounds Q\")"
   ]
  },
  {
   "cell_type": "code",
   "execution_count": null,
   "metadata": {},
   "outputs": [],
   "source": [
    "hp.mollview(output_map[2], min=-1e-5, max=1e-5, unit=\"K\", title=\"Foregrounds U\")"
   ]
  },
  {
   "cell_type": "code",
   "execution_count": null,
   "metadata": {},
   "outputs": [],
   "source": []
  }
 ],
 "metadata": {
  "kernelspec": {
   "display_name": "condajupynersc",
   "language": "python",
   "name": "condajupynersc"
  }
 },
 "nbformat": 4,
 "nbformat_minor": 4
}
