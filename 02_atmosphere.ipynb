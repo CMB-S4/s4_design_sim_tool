{
 "cells": [
  {
   "cell_type": "markdown",
   "metadata": {},
   "source": [
    "# Atmosphere\n",
    "> Load and scale the maps of the noise from the atmosphere\n",
    "- toc: True\n",
    "\n",
    "* We have 8 independent realizations\n",
    "* They scale with the number of telescopes, i.e. it doesn't make any difference if there are 1 or 3 channels in the same telescope, they do not help beat the atmosphere\n",
    "* They were simulated for 10 days at 100% efficiency at Chile, 46.29% (SAT) and 37.23% (LAT) at Pole"
   ]
  },
  {
   "cell_type": "code",
   "execution_count": null,
   "metadata": {},
   "outputs": [],
   "source": [
    "# default_exp atmosphere"
   ]
  },
  {
   "cell_type": "code",
   "execution_count": null,
   "metadata": {},
   "outputs": [],
   "source": [
    "# export\n",
    "\n",
    "import healpy as hp\n",
    "import numpy as np\n",
    "from path import Path\n",
    "import logging as log\n",
    "\n",
    "from s4refsimtool.core import get_telescope, base_folder, simulations_observing_efficiency"
   ]
  },
  {
   "cell_type": "code",
   "execution_count": null,
   "metadata": {},
   "outputs": [],
   "source": [
    "import h5py\n",
    "import toml"
   ]
  },
  {
   "cell_type": "code",
   "execution_count": null,
   "metadata": {},
   "outputs": [],
   "source": [
    "config = toml.load(\"s4_reference_design.toml\")"
   ]
  },
  {
   "cell_type": "code",
   "execution_count": null,
   "metadata": {},
   "outputs": [],
   "source": [
    "log.basicConfig(level=log.INFO)"
   ]
  },
  {
   "cell_type": "code",
   "execution_count": null,
   "metadata": {},
   "outputs": [],
   "source": [
    "# exports\n",
    "\n",
    "\n",
    "def get_telecope_years(config, site, channel):\n",
    "    \"\"\"Compute the number of telescope/years in the CMB-S4 configuration\n",
    "\n",
    "    config_telescopes : dict\n",
    "        CMB-S4 telescopes configuration,\n",
    "        generally loaded from a TOML file\n",
    "    site : str\n",
    "        'Pole' or 'Chile', case doesn't matter\n",
    "    channel : str\n",
    "        Channel tag, e.g. 'MFHS1'\n",
    "    \"\"\"\n",
    "    telescope_years = 0\n",
    "    for tube, bands in config[\"telescopes\"][get_telescope(channel)].items():\n",
    "        if bands[\"site\"].lower() == site.lower():\n",
    "            has_band = bands.get(channel[:-1], 0) > 0\n",
    "            telescope_years += has_band * bands.get(\n",
    "                \"years\", config[\"experiment\"][\"total_experiment_length_years\"]\n",
    "            )\n",
    "    return telescope_years"
   ]
  },
  {
   "cell_type": "code",
   "execution_count": null,
   "metadata": {},
   "outputs": [],
   "source": [
    "s4 = h5py.File(\"cmbs4_tophat.h5\", 'r')"
   ]
  },
  {
   "cell_type": "code",
   "execution_count": null,
   "metadata": {},
   "outputs": [],
   "source": [
    "!tail -30 s4_reference_design.toml"
   ]
  },
  {
   "cell_type": "markdown",
   "metadata": {},
   "source": [
    "## Compute telescope/years for the reference design"
   ]
  },
  {
   "cell_type": "code",
   "execution_count": null,
   "metadata": {},
   "outputs": [],
   "source": [
    "for site in [\"Pole\", \"Chile\"]:\n",
    "    for channel in s4.keys():\n",
    "        telescope_years = get_telecope_years(config[\"telescopes\"], site, channel)\n",
    "        print(site, channel, telescope_years)\n",
    "        telescope = get_telescope(channel)\n",
    "        if site == \"Chile\":\n",
    "            if telescope == \"SAT\":\n",
    "                assert telescope_years == 0, \"All SAT at Pole\"\n",
    "            elif channel.startswith(\"ULFL\"):\n",
    "                assert telescope_years == 0, \"No ULFL in Chile\"              \n",
    "            else:\n",
    "                assert telescope_years == 14, \"2 LAT each band\"\n",
    "        if site == \"Pole\":\n",
    "            if telescope == \"SAT\":\n",
    "                assert telescope_years == 14, \"2 SAT telescopes each band\"\n",
    "            else:\n",
    "                assert telescope_years == 7, \"1 LAT with all 4 bands\" \n",
    "    print(30 * \"=\")"
   ]
  },
  {
   "cell_type": "code",
   "execution_count": null,
   "metadata": {},
   "outputs": [],
   "source": [
    "# exports\n",
    "\n",
    "\n",
    "def load_atmosphere(config, site, channel, realization=0):\n",
    "    \"\"\"Load foreground maps for a channel\n",
    "\n",
    "    Parameters\n",
    "    ----------\n",
    "    config : dict\n",
    "        CMB-S4 configuration,\n",
    "        generally loaded from a TOML file\n",
    "    site : str\n",
    "        'Pole' or 'Chile', case doesn't matter\n",
    "    channel : str\n",
    "        Channel tag, e.g. 'MFHS1'\n",
    "    realization : int\n",
    "        Choose one of the available 8 realizations\n",
    "\n",
    "    Returns\n",
    "    -------\n",
    "    output_map : numpy array\n",
    "        Output map with all emissions combined, uses nan for missing pixels\n",
    "    \"\"\"\n",
    "\n",
    "    telescope = get_telescope(channel)\n",
    "    map_filename = (\n",
    "        Path(base_folder)\n",
    "        / f\"{realization:08d}\"\n",
    "        / f\"{site.lower()}_atmosphere_{telescope}_{channel}_filtered_telescope_all_time_all_bmap.fits\"\n",
    "    )\n",
    "    log.info(f\"Reading {map_filename}\")\n",
    "    atmosphere_map = hp.read_map(\n",
    "        map_filename, (0, 1, 2), dtype=np.float32, verbose=False\n",
    "    )\n",
    "    atmosphere_map[atmosphere_map == hp.UNSEEN] = np.nan\n",
    "    # input map is 10 days at 100% efficiency\n",
    "    atmosphere_map *= np.sqrt(10) / np.sqrt(\n",
    "        365.25 * config[\"experiment\"][\"observing_efficiency\"]\n",
    "    )\n",
    "    # pole sims have lower efficiency\n",
    "    atmosphere_map *= np.sqrt(\n",
    "        simulations_observing_efficiency[site.lower()].get(telescope, 1)\n",
    "    )\n",
    "    atmosphere_map /= np.sqrt(get_telecope_years(config[\"telescopes\"], site, channel))\n",
    "    return atmosphere_map"
   ]
  },
  {
   "cell_type": "markdown",
   "metadata": {},
   "source": [
    "## Run on a channel and plot results\n",
    "\n",
    "Available atmosphere maps"
   ]
  },
  {
   "cell_type": "code",
   "execution_count": null,
   "metadata": {},
   "outputs": [],
   "source": [
    "filenames = !ls /global/cscratch1/sd/keskital/s4sim/reference_tool/out/00000000/*atmo*"
   ]
  },
  {
   "cell_type": "code",
   "execution_count": null,
   "metadata": {},
   "outputs": [],
   "source": [
    "import os.path\n",
    "for f in map(os.path.basename, filenames):\n",
    "    print(f)"
   ]
  },
  {
   "cell_type": "code",
   "execution_count": null,
   "metadata": {},
   "outputs": [],
   "source": [
    "channel = \"LFS1\"\n",
    "site = \"Pole\""
   ]
  },
  {
   "cell_type": "code",
   "execution_count": null,
   "metadata": {},
   "outputs": [],
   "source": [
    "output_map = load_atmosphere(config, site, channel, realization=0)"
   ]
  },
  {
   "cell_type": "code",
   "execution_count": null,
   "metadata": {},
   "outputs": [],
   "source": [
    "np.nanmax(output_map)"
   ]
  },
  {
   "cell_type": "code",
   "execution_count": null,
   "metadata": {},
   "outputs": [],
   "source": [
    "assert np.nanmax(output_map) < 1e-3 and np.nanmax(output_map) > 1e-5, \\\n",
    "    \"Amplitude check failed\""
   ]
  },
  {
   "cell_type": "code",
   "execution_count": null,
   "metadata": {},
   "outputs": [],
   "source": [
    "assert np.nanmin(output_map) > -1e-4 and np.nanmin(output_map) < 1e-6, \\\n",
    "    \"Amplitude check failed\""
   ]
  },
  {
   "cell_type": "code",
   "execution_count": null,
   "metadata": {},
   "outputs": [],
   "source": [
    "%matplotlib inline"
   ]
  },
  {
   "cell_type": "code",
   "execution_count": null,
   "metadata": {},
   "outputs": [],
   "source": [
    "hp.mollview(output_map[0], min=-1e-5, max=1e-5, unit=\"K\", title=\"Atmosphere I\")"
   ]
  },
  {
   "cell_type": "markdown",
   "metadata": {},
   "source": [
    "There are no systematics in the half-wave plate or bandpass mismatch, so almost all the atmosphere signal is rejected in polarization."
   ]
  },
  {
   "cell_type": "code",
   "execution_count": null,
   "metadata": {},
   "outputs": [],
   "source": [
    "hp.mollview(output_map[1], min=-1e-9, max=1e-9, unit=\"K\", title=\"Atmosphere Q\")"
   ]
  },
  {
   "cell_type": "code",
   "execution_count": null,
   "metadata": {},
   "outputs": [],
   "source": [
    "hp.mollview(output_map[2], min=-1e-9, max=1e-9, unit=\"K\", title=\"Atmosphere U\")"
   ]
  },
  {
   "cell_type": "code",
   "execution_count": null,
   "metadata": {},
   "outputs": [],
   "source": []
  }
 ],
 "metadata": {
  "kernelspec": {
   "display_name": "condajupynersc",
   "language": "python",
   "name": "condajupynersc"
  }
 },
 "nbformat": 4,
 "nbformat_minor": 4
}
