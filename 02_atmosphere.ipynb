{
 "cells": [
  {
   "cell_type": "code",
   "execution_count": null,
   "metadata": {},
   "outputs": [],
   "source": [
    "# default_exp atmosphere"
   ]
  },
  {
   "cell_type": "code",
   "execution_count": null,
   "metadata": {},
   "outputs": [],
   "source": [
    "import logging as log"
   ]
  },
  {
   "cell_type": "code",
   "execution_count": null,
   "metadata": {},
   "outputs": [],
   "source": [
    "import toml\n",
    "import healpy as hp\n",
    "import numpy as np\n",
    "import h5py\n",
    "from path import Path"
   ]
  },
  {
   "cell_type": "code",
   "execution_count": null,
   "metadata": {},
   "outputs": [],
   "source": [
    "from s4refsimtool.core import get_telescope"
   ]
  },
  {
   "cell_type": "code",
   "execution_count": null,
   "metadata": {},
   "outputs": [],
   "source": [
    "config = toml.load(\"s4_reference_design.toml\")"
   ]
  },
  {
   "cell_type": "code",
   "execution_count": null,
   "metadata": {},
   "outputs": [],
   "source": [
    "base_folder = \"/global/cscratch1/sd/keskital/s4sim/reference_tool/out/00000000\""
   ]
  },
  {
   "cell_type": "code",
   "execution_count": null,
   "metadata": {},
   "outputs": [],
   "source": [
    "%ls $base_folder/*atmo*"
   ]
  },
  {
   "cell_type": "code",
   "execution_count": null,
   "metadata": {},
   "outputs": [],
   "source": [
    "log.basicConfig(level=log.INFO)"
   ]
  },
  {
   "cell_type": "code",
   "execution_count": null,
   "metadata": {},
   "outputs": [],
   "source": [
    "# export\n",
    "\n",
    "def get_telecope_years(config_telescopes, site, channel):\n",
    "    \"\"\"Compute the number of telescope/years in the CMB-S4 configuration\n",
    "    \n",
    "    config_telescopes : dict\n",
    "        CMB-S4 telescopes configuration,\n",
    "        generally config[\"telescopes\"] if loaded from a TOML file\n",
    "    site : str\n",
    "        'Pole' or 'Chile', case doesn't matter\n",
    "    channel : str\n",
    "        Channel tag, e.g. 'MFHS1'\n",
    "    \"\"\"\n",
    "    telescope_years = 0\n",
    "    for tube, bands in config_telescopes[get_telescope(channel)].items():\n",
    "        if bands[\"site\"].lower() == site.lower():\n",
    "            has_band = bands.get(channel[:-1], 0) > 0\n",
    "            telescope_years += has_band * bands.get(\"years\", config[\"experiment\"][\"total_experiment_length_years\"])\n",
    "    return telescope_years"
   ]
  },
  {
   "cell_type": "code",
   "execution_count": null,
   "metadata": {},
   "outputs": [],
   "source": [
    "s4 = h5py.File(\"cmbs4_tophat.h5\", 'r')"
   ]
  },
  {
   "cell_type": "code",
   "execution_count": null,
   "metadata": {},
   "outputs": [],
   "source": [
    "!tail -30 s4_reference_design.toml"
   ]
  },
  {
   "cell_type": "code",
   "execution_count": null,
   "metadata": {},
   "outputs": [],
   "source": [
    "for site in [\"Pole\", \"Chile\"]:\n",
    "    for channel in s4.keys():\n",
    "        telescope_years = get_telecope_years(config[\"telescopes\"], site, channel)\n",
    "        print(site, channel, telescope_years)\n",
    "        telescope = get_telescope(channel)\n",
    "        if site == \"Chile\":\n",
    "            if telescope == \"SAT\":\n",
    "                assert telescope_years == 0, \"All SAT at Pole\"\n",
    "            elif channel.startswith(\"ULFL\"):\n",
    "                assert telescope_years == 0, \"No ULFL in Chile\"              \n",
    "            else:\n",
    "                assert telescope_years == 14, \"2 LAT each band\"\n",
    "        if site == \"Pole\":\n",
    "            if telescope == \"SAT\":\n",
    "                assert telescope_years == 14, \"2 SAT telescopes each band\"\n",
    "            else:\n",
    "                assert telescope_years == 7, \"1 LAT with all 4 bands\"            "
   ]
  },
  {
   "cell_type": "code",
   "execution_count": null,
   "metadata": {},
   "outputs": [],
   "source": [
    "# export\n",
    "\n",
    "def load_atmosphere(config, site, channel):\n",
    "    \"\"\"Load foreground maps for a channel\n",
    "    \n",
    "    Parameters\n",
    "    ----------\n",
    "    config : dict\n",
    "        CMB-S4 configuration,\n",
    "        generally loaded from a TOML file\n",
    "    site : str\n",
    "        'Pole' or 'Chile', case doesn't matter\n",
    "    channel : str\n",
    "        Channel tag, e.g. 'MFHS1'\n",
    "        \n",
    "    Returns\n",
    "    -------\n",
    "    output_map : numpy array\n",
    "        Output map with all emissions combined, uses nan for missing pixels\n",
    "    \"\"\"\n",
    "    telescope = get_telescope(channel)\n",
    "    nside = 512 if telescope == \"SAT\" else 4096\n",
    "    npix = hp.nside2npix(nside)\n",
    "    atmosphere_map = hp.read_map(\n",
    "            Path(base_folder) / f\"{site.lower()}_atmosphere_{telescope}_{channel}_filtered_telescope_all_time_all_bmap.fits\",\n",
    "        (0,1,2), dtype=np.float32, verbose=False)\n",
    "    atmosphere_map[atmosphere_map == hp.UNSEEN] = np.nan\n",
    "    # input map is 10 days at 100% efficiency\n",
    "    atmosphere_map *= 10 / (365.25 * config[\"experiment\"][\"observing_efficiency\"])\n",
    "    atmosphere_map *= get_telecope_years(config[\"telescopes\"], site, channel)\n",
    "    return atmosphere_map"
   ]
  },
  {
   "cell_type": "code",
   "execution_count": null,
   "metadata": {},
   "outputs": [],
   "source": [
    "ch = \"LFS1\"\n",
    "site = \"Pole\""
   ]
  },
  {
   "cell_type": "code",
   "execution_count": null,
   "metadata": {},
   "outputs": [],
   "source": [
    "output_map = load_atmosphere(config, site, channel)"
   ]
  },
  {
   "cell_type": "code",
   "execution_count": null,
   "metadata": {},
   "outputs": [],
   "source": [
    "assert np.nanmax(output_map) < 1e-2 and np.nanmax(output_map) > 1e-3, \\\n",
    "    \"Amplitude check failed\""
   ]
  },
  {
   "cell_type": "code",
   "execution_count": null,
   "metadata": {},
   "outputs": [],
   "source": [
    "assert np.nanmin(output_map) > -1e-2 and np.nanmin(output_map) < 1e-3, \\\n",
    "    \"Amplitude check failed\""
   ]
  },
  {
   "cell_type": "code",
   "execution_count": null,
   "metadata": {},
   "outputs": [],
   "source": [
    "%matplotlib inline"
   ]
  },
  {
   "cell_type": "code",
   "execution_count": null,
   "metadata": {},
   "outputs": [],
   "source": [
    "hp.mollview(output_map[0], min=-1e-3, max=1e-3, unit=\"K\", title=\"Atmosphere\")"
   ]
  },
  {
   "cell_type": "code",
   "execution_count": null,
   "metadata": {},
   "outputs": [],
   "source": [
    "hp.mollview(output_map[1], min=-1e-7, max=1e-7, unit=\"K\", title=\"Atmosphere Q\")"
   ]
  },
  {
   "cell_type": "code",
   "execution_count": null,
   "metadata": {},
   "outputs": [],
   "source": [
    "hp.mollview(output_map[2], min=-1e-7, max=1e-7, unit=\"K\", title=\"Atmosphere U\")"
   ]
  }
 ],
 "metadata": {
  "kernelspec": {
   "display_name": "condajupynersc",
   "language": "python",
   "name": "condajupynersc"
  }
 },
 "nbformat": 4,
 "nbformat_minor": 4
}
