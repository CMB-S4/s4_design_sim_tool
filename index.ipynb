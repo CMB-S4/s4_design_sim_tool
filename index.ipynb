{
 "cells": [
  {
   "cell_type": "markdown",
   "metadata": {},
   "source": [
    "# CMB-S4 reference simulation tool\n",
    "> Generate CMB-S4 simulated maps of foregrounds/atmosphere and noise based on the configuration of the experiment"
   ]
  },
  {
   "cell_type": "markdown",
   "metadata": {},
   "source": [
    "## Configuration options\n",
    "\n",
    "see [`s4_reference_design.toml`](s4_reference_design.toml)\n",
    "\n",
    "## Input maps\n",
    "\n",
    "### Unfiltered sky signal\n",
    "\n",
    "* Full-sky Nside 4096 (LAT) and Nside 512 (SAT)\n",
    "* Galactic, extragalactic and CMB\n",
    "* Bandpass integrated with tophat bandpasses from `s4sim`\n",
    "* Smoothed with gaussian beams\n",
    "\n",
    "See the [`202002_foregrounds_extragalactic_cmb_tophat`](https://github.com/CMB-S4/s4mapbasedsims/tree/master/202002_foregrounds_extragalactic_cmb_tophat) map based simulations\n",
    "\n",
    "### Noise maps\n",
    "\n",
    "Noise was simulated for one tube in each telescope.  We observed according to a 10-day schedule without Sun or Moon avoidance. For Chile, the schedules already emulate the maximum observing efficiency.  For simplicity, the Pole schedules only    include one full scan of the respective patch per day.  As a result, the Pole observing efficiencies are 46.29% (SAT) and 37.23% (LAT). These efficiencies must be accounted for by downweighting the Pole noise and atmospheric maps with their      scheduled efficiences.\n",
    "\n",
    "These factors should be corrected for the *noise and atmosphere* maps: `map_out = map_in * sqrt(efficiency)`.\n",
    "\n",
    "Also for expedience, we downsampled the densest focal planes to reduce the overall detector counts:\n",
    "```\n",
    "telescope  band   thinfp\n",
    "LAT        HFL      8\n",
    "LAT        MFL      8\n",
    "LAT        LFL      1\n",
    "LAT        ULFL     1\n",
    "SAT        HFS      8\n",
    "SAT        MFHS     4\n",
    "SAT        MFLS     4\n",
    "SAT        LFS      1\n",
    "```\n",
    "These factors should be corrected for in the *noise* maps but not in the atmospheric maps: `map_out = map_in / sqrt(thinfp)`. "
   ]
  },
  {
   "cell_type": "code",
   "execution_count": null,
   "metadata": {},
   "outputs": [],
   "source": [
    "# hide\n",
    "\n",
    "from s4refsimtool.core import *"
   ]
  },
  {
   "cell_type": "code",
   "execution_count": null,
   "metadata": {},
   "outputs": [],
   "source": []
  }
 ],
 "metadata": {
  "kernelspec": {
   "display_name": "Python 3",
   "language": "python",
   "name": "python3"
  }
 },
 "nbformat": 4,
 "nbformat_minor": 4
}
