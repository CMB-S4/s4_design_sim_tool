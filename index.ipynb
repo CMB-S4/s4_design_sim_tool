{
 "cells": [
  {
   "cell_type": "markdown",
   "metadata": {},
   "source": [
    "# CMB-S4 design simulation tool\n",
    "> Generate CMB-S4 simulated maps of foregrounds/atmosphere and noise based on the configuration of the experiment"
   ]
  },
  {
   "cell_type": "markdown",
   "metadata": {},
   "source": [
    "`s4_design_sim_tool` is a library, a command-line tool and a web interface to properly combine and weight pre-executed maps from time-domain and map-domain simulation based on input parameters and the instrument configuration (e.g. location of telescopes, distribution in frequency of the tubes).\n",
    "\n",
    "## Configuration options\n",
    "\n",
    "The simulation configuration is defined by a TOML text file,\n",
    "see for example the TOML configuration for the CMB-S4 reference design: [`s4_reference_design.toml`](https://github.com/CMB-S4/s4_design_sim_tool/blob/master/s4_reference_design.toml)\n",
    "\n",
    "### Sky emission\n",
    "\n",
    "The first section of the configuration files defines which input components should be considered,\n",
    "it is possible to choose a weight between 0 and 1 for all components, for example we can simulate residual foregrounds after cleaning or partial de-lensing, and we can choose the tensor-to-scalar ratio `r`.\n",
    "\n",
    "Input maps are already top-hat bandpass integrated, beam-smoothed, and ran through a filter-and-bin mapmaking algorithm in time-domain, they are combined based on the configuration file and are not influenced by the experiment configuration.\n",
    "For more details, see the [input maps section below](#Input-maps) and the [Jupyter notebook with the implementation](/s4_design_sim_tool/foregrounds).\n",
    "\n",
    "### Experiment\n",
    "\n",
    "The second section defines the design of the instrument, it is possible to customize the number and location of SAT and LAT telescope and for each of them modify what tube are mounting, keeping the constraint of 3 tubes for SAT and 19 for LAT.\n",
    "\n",
    "Scaling of atmospheric and instrument noise is performed with these assumption:\n",
    "\n",
    "* scale the 10-day simulations to 1 year considering the observing efficiency\n",
    "* for Pole also consider the additional efficiency factor\n",
    "* scale by the detector-years for noise and telescope-years for atmosphere\n",
    "\n",
    "Therefore 2 tubes on the same telescope have the same atmospheric noise of 1 tube, to reduce noise from the atmosphere we need to distribute tubes across multiple telescopes.\n",
    "For instrument noise instead, it doesn't matter their distribution across telescopes, just their number.\n",
    "\n",
    "For more details, see the [input maps section below](#Noise-maps) and the Jupyter notebooks with the implementation for the [atmosphere](/s4_design_sim_tool/atmosphere) and [noise](/s4_design_sim_tool/noise).\n",
    "\n",
    "## Input maps\n",
    "\n",
    "### Sky signal\n",
    "\n",
    "* Full-sky Nside 4096 (LAT) and Nside 512 (SAT)\n",
    "* Galactic, extragalactic and CMB\n",
    "* Bandpass integrated with tophat bandpasses from `s4sim`\n",
    "* Smoothed with gaussian beams\n",
    "\n",
    "See the [`202002_foregrounds_extragalactic_cmb_tophat`](https://github.com/CMB-S4/s4mapbasedsims/tree/master/202002_foregrounds_extragalactic_cmb_tophat) map based simulations.\n",
    "\n",
    "Then the maps were used as inputs for a time-domain simulation with TOAST to simulate the effect\n",
    "of a filter-and-bin mapmaking with the CMB-S4 scanning strategy both for Pole and Chile.\n",
    "\n",
    "### Noise maps\n",
    "\n",
    "Noise was simulated for one tube in each telescope.  We observed according to a 10-day schedule without Sun or Moon avoidance. For Chile, the schedules already emulate the maximum observing efficiency.  For simplicity, the Pole schedules only    include one full scan of the respective patch per day.  As a result, the Pole observing efficiencies are 46.29% (SAT) and 37.23% (LAT). These efficiencies must be accounted for by downweighting the Pole noise and atmospheric maps with their      scheduled efficiences.\n",
    "\n",
    "These factors should be corrected for the *noise and atmosphere* maps: `map_out = map_in * sqrt(efficiency)`.\n",
    "\n",
    "Also for expedience, we downsampled the densest focal planes to reduce the overall detector counts:\n",
    "```\n",
    "telescope  band   thinfp\n",
    "LAT        HFL      8\n",
    "LAT        MFL      8\n",
    "LAT        LFL      1\n",
    "LAT        ULFL     1\n",
    "SAT        HFS      8\n",
    "SAT        MFHS     4\n",
    "SAT        MFLS     4\n",
    "SAT        LFS      1\n",
    "```\n",
    "These factors should be corrected for in the *noise* maps but not in the atmospheric maps: `map_out = map_in / sqrt(thinfp)`. "
   ]
  },
  {
   "cell_type": "code",
   "execution_count": null,
   "metadata": {},
   "outputs": [],
   "source": [
    "# hide\n",
    "\n",
    "from s4_design_sim_tool.core import *"
   ]
  },
  {
   "cell_type": "code",
   "execution_count": null,
   "metadata": {},
   "outputs": [],
   "source": []
  }
 ],
 "metadata": {
  "kernelspec": {
   "display_name": "Python 3",
   "language": "python",
   "name": "python3"
  }
 },
 "nbformat": 4,
 "nbformat_minor": 4
}
