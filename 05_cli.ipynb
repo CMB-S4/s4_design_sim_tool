{
 "cells": [
  {
   "cell_type": "markdown",
   "metadata": {},
   "source": [
    "# Simulation interface\n",
    "> Main simulation class and command line client\n",
    "\n",
    "Create a class which:\n",
    "\n",
    "* parses the configuration file\n",
    "* gets the channels that the user wants to simulate\n",
    "* loops through these and returns/writes the maps"
   ]
  },
  {
   "cell_type": "code",
   "execution_count": null,
   "metadata": {},
   "outputs": [],
   "source": [
    "# default_exp cli"
   ]
  },
  {
   "cell_type": "code",
   "execution_count": null,
   "metadata": {},
   "outputs": [],
   "source": [
    "%load_ext autoreload\n",
    "%autoreload 2"
   ]
  },
  {
   "cell_type": "code",
   "execution_count": null,
   "metadata": {},
   "outputs": [],
   "source": [
    "# export\n",
    "\n",
    "import os\n",
    "import toml\n",
    "import healpy as hp\n",
    "import numpy as np\n",
    "import h5py\n",
    "from pathlib import Path\n",
    "import logging as log\n",
    "from datetime import date\n",
    "\n",
    "from s4_design_sim_tool.core import get_telescope, parse_channels\n",
    "\n",
    "from s4_design_sim_tool import __version__\n",
    "\n",
    "from s4_design_sim_tool.foregrounds import load_sky_emission\n",
    "from s4_design_sim_tool.atmosphere import load_atmosphere, get_telecope_years\n",
    "from s4_design_sim_tool.noise import load_noise\n",
    "from s4_design_sim_tool.hitmap_wcov import load_hitmap_wcov"
   ]
  },
  {
   "cell_type": "code",
   "execution_count": null,
   "metadata": {},
   "outputs": [],
   "source": [
    "# exports\n",
    "\n",
    "import hashlib\n",
    "\n",
    "\n",
    "def md5sum_string(string):\n",
    "    return hashlib.md5(string.encode(\"utf-8\")).hexdigest()\n",
    "\n",
    "\n",
    "def md5sum_file(filename):\n",
    "    \"\"\"Compute md5 checksum of the contents of a file\"\"\"\n",
    "\n",
    "    return md5sum_string(open(filename, \"r\").read())"
   ]
  },
  {
   "cell_type": "code",
   "execution_count": null,
   "metadata": {},
   "outputs": [],
   "source": [
    "# exports\n",
    "\n",
    "import collections\n",
    "\n",
    "\n",
    "def merge_dict(d1, d2):\n",
    "    \"\"\"\n",
    "    Modifies d1 in-place to contain values from d2.  If any value\n",
    "    in d1 is a dictionary (or dict-like), *and* the corresponding\n",
    "    value in d2 is also a dictionary, then merge them in-place.\n",
    "    \"\"\"\n",
    "    for k, v2 in d2.items():\n",
    "        v1 = d1.get(k)  # returns None if v1 has no value for this key\n",
    "        if isinstance(v1, collections.Mapping) and isinstance(v2, collections.Mapping):\n",
    "            merge_dict(v1, v2)\n",
    "        else:\n",
    "            d1[k] = v2"
   ]
  },
  {
   "cell_type": "code",
   "execution_count": null,
   "metadata": {},
   "outputs": [],
   "source": [
    "console_md5sum = !md5sum s4_reference_design.toml"
   ]
  },
  {
   "cell_type": "code",
   "execution_count": null,
   "metadata": {},
   "outputs": [],
   "source": [
    "console_md5sum"
   ]
  },
  {
   "cell_type": "code",
   "execution_count": null,
   "metadata": {},
   "outputs": [],
   "source": [
    "assert md5sum_file(\"s4_reference_design.toml\") == console_md5sum[-1].split()[0]"
   ]
  },
  {
   "cell_type": "code",
   "execution_count": null,
   "metadata": {},
   "outputs": [],
   "source": [
    "# exports\n",
    "\n",
    "\n",
    "class S4RefSimTool:\n",
    "    def __init__(self, config_filename, output_folder=\"output\"):\n",
    "        \"\"\"Simulate CMB-S4 maps based on the experiment configuration\n",
    "\n",
    "        Parameters\n",
    "        ----------\n",
    "        config : str or Path or List\n",
    "            CMB-S4 configuration stored in a TOML file\n",
    "            see for example s4_reference_design.toml in the repository\n",
    "            It also supports multiple TOML files as a List, in this case\n",
    "            later files override configuration files of the earlier files.\n",
    "            check the `config` attribute to verify that the parsing behaved\n",
    "            as expected.\n",
    "        output_folder : str or Path\n",
    "            Output path\n",
    "        \"\"\"\n",
    "        self.config_filename = (\n",
    "            [config_filename]\n",
    "            if isinstance(config_filename, (str, Path))\n",
    "            else config_filename\n",
    "        )\n",
    "\n",
    "        self.config = toml.load(self.config_filename[0])\n",
    "        for conf in self.config_filename[1:]:\n",
    "            merge_dict(self.config, toml.load(conf))\n",
    "        self.output_filename_template = \"cmbs4_KCMB_{telescope}-{band}_{site}_nside{nside}_{split}_of_{nsplits}.fits\"\n",
    "        self.output_folder = Path(output_folder)\n",
    "        self.output_folder.mkdir(parents=True, exist_ok=True)\n",
    "\n",
    "    def run(self, channels=\"all\", sites=[\"Pole\", \"Chile\"]):\n",
    "        \"\"\"Run the simulation\n",
    "\n",
    "        Parameters\n",
    "        ----------\n",
    "        channels : str or list[str]\n",
    "            list of channel tags, e.g.\n",
    "            * [\"LFS1\", \"LFS2\"] or\n",
    "            * \"SAT\" or \"LAT\"\n",
    "            * \"all\" (default)\n",
    "        site : list[str]\n",
    "            ['Pole'] or ['Chile'], by default [\"Pole\", \"Chile\"]\n",
    "        \"\"\"\n",
    "        nsplits = self.config[\"experiment\"].get(\"number_of_splits\", 0)\n",
    "        if nsplits == 1:\n",
    "            nsplits = 0\n",
    "        assert (\n",
    "            nsplits < 8\n",
    "        ), \"We currently only have 7 independent realizations of atmosphere and noise\"\n",
    "        conf_md5 = \",\".join(map(md5sum_file, self.config_filename))\n",
    "        for site in sites:\n",
    "            for channel in parse_channels(channels):\n",
    "\n",
    "                if get_telecope_years(self.config, site, channel) == 0:\n",
    "                    continue\n",
    "                telescope = get_telescope(channel)\n",
    "                subfolder = self.output_folder / f\"{telescope}-{channel}_{site.lower()}\"\n",
    "                subfolder.mkdir(parents=True, exist_ok=True)\n",
    "                log.info(\"Created output folder %s\", str(subfolder))\n",
    "\n",
    "                log.info(f\"Simulate channel {channel} at {site}\")\n",
    "                sky_emission = load_sky_emission(\n",
    "                    self.config[\"sky_emission\"], site, channel\n",
    "                )\n",
    "                for split in range(nsplits + 1):\n",
    "                    nside = 512 if telescope == \"SAT\" else 4096\n",
    "                    output_filename = self.output_filename_template.format(\n",
    "                        nside=nside,\n",
    "                        telescope=telescope,\n",
    "                        band=channel,\n",
    "                        site=site.lower(),\n",
    "                        split=max(1, split),  # split=0 is full mission and we want 1\n",
    "                        nsplits=1 if split == 0 else nsplits,\n",
    "                    )\n",
    "                    if os.path.exists(subfolder / output_filename):\n",
    "                        log.info(\"File %s already exists, SKIP\", output_filename)\n",
    "                        continue\n",
    "\n",
    "                    output_map = np.zeros_like(sky_emission)\n",
    "                    if self.config[\"experiment\"].get(\"include_atmosphere\", True):\n",
    "                        output_map += load_atmosphere(\n",
    "                            self.config, site, channel, realization=split\n",
    "                        )\n",
    "                    else:\n",
    "                        log.info(\"Skip the atmosphere noise\")\n",
    "\n",
    "                    if self.config[\"experiment\"].get(\"include_noise\", True):\n",
    "                        output_map += load_noise(\n",
    "                            self.config, site, channel, realization=split\n",
    "                        )\n",
    "\n",
    "                    else:\n",
    "                        log.info(\"Skip the instrument noise\")\n",
    "\n",
    "                    if split > 0:\n",
    "                        output_map *= np.sqrt(nsplits)\n",
    "                    output_map += sky_emission\n",
    "                    # Use UNSEEN instead of nan for missing pixels\n",
    "                    output_map[np.isnan(output_map)] = hp.UNSEEN\n",
    "\n",
    "                    log.info(f\"Writing {output_filename}\")\n",
    "                    noise_version = \"1.0\"\n",
    "                    hp.write_map(\n",
    "                        subfolder / output_filename,\n",
    "                        output_map,\n",
    "                        column_units=\"K_CMB\",\n",
    "                        extra_header=[\n",
    "                            (\"SOFTWARE\", \"s4_design_sim_tool\"),\n",
    "                            (\"SW_VERS\", __version__),\n",
    "                            (\"SKY_VERS\", \"1.0\"),\n",
    "                            (\"ATM_VERS\", \"1.0\"),\n",
    "                            (\"NOI_VERS\", noise_version),\n",
    "                            (\"SITE\", site),\n",
    "                            (\"SPLIT\", split),\n",
    "                            (\"NSPLITS\", nsplits),\n",
    "                            (\"CHANNEL\", channel),\n",
    "                            (\"DATE\", str(date.today())),\n",
    "                            (\"CONFMD5\", conf_md5),\n",
    "                        ],\n",
    "                        coord=\"Q\",\n",
    "                        overwrite=True,\n",
    "                    )\n",
    "                    # only run of full mission and the first split\n",
    "                    if split in [0, 1] and self.config[\"experiment\"].get(\n",
    "                        \"include_noise\", False\n",
    "                    ):\n",
    "\n",
    "                        if split == 0:\n",
    "                            log.info(\n",
    "                                f\"Loading hitmap and white noise covariance matrix\"\n",
    "                            )\n",
    "                            hitmap, wcov = load_hitmap_wcov(\n",
    "                                self.config, site, channel, realization=0\n",
    "                            )\n",
    "                        hitmap_filename = output_filename.replace(\"KCMB\", \"hitmap\")\n",
    "                        log.info(f\"Writing {hitmap_filename}\")\n",
    "                        hp.write_map(\n",
    "                            subfolder / hitmap_filename,\n",
    "                            hitmap,\n",
    "                            column_units=\"hits\",\n",
    "                            extra_header=[\n",
    "                                (\"SOFTWARE\", \"s4_design_sim_tool\"),\n",
    "                                (\"SW_VERS\", __version__),\n",
    "                                (\"NOI_VERS\", noise_version),\n",
    "                                (\"SITE\", site),\n",
    "                                (\"SPLIT\", split),\n",
    "                                (\"NSPLITS\", nsplits),\n",
    "                                (\"CHANNEL\", channel),\n",
    "                                (\"DATE\", str(date.today())),\n",
    "                                (\"CONFMD5\", conf_md5),\n",
    "                            ],\n",
    "                            coord=\"Q\",\n",
    "                            overwrite=True,\n",
    "                        )\n",
    "                        hitmap = np.round(hitmap / nsplits).astype(np.int64)\n",
    "\n",
    "                        wcov_filename = output_filename.replace(\"KCMB\", \"wcov\")\n",
    "                        log.info(f\"Writing {wcov_filename}\")\n",
    "                        hp.write_map(\n",
    "                            subfolder / wcov_filename,\n",
    "                            wcov,\n",
    "                            column_units=\"K_CMB**2\",\n",
    "                            extra_header=[\n",
    "                                (\"SOFTWARE\", \"s4_design_sim_tool\"),\n",
    "                                (\"SW_VERS\", __version__),\n",
    "                                (\"NOI_VERS\", noise_version),\n",
    "                                (\"SITE\", site),\n",
    "                                (\"SPLIT\", split),\n",
    "                                (\"NSPLITS\", nsplits),\n",
    "                                (\"CHANNEL\", channel),\n",
    "                                (\"DATE\", str(date.today())),\n",
    "                                (\"CONFMD5\", md5sum_file(self.config_filename)),\n",
    "                            ],\n",
    "                            coord=\"Q\",\n",
    "                            overwrite=True,\n",
    "                        )\n",
    "                        wcov = hp.ma(wcov) * nsplits\n",
    "                        if split == 1:\n",
    "                            del hitmap, wcov"
   ]
  },
  {
   "cell_type": "code",
   "execution_count": null,
   "metadata": {},
   "outputs": [],
   "source": [
    "# exports\n",
    "\n",
    "\n",
    "def command_line_script(args=None):\n",
    "\n",
    "    import logging as log\n",
    "\n",
    "    log.basicConfig(level=log.INFO)\n",
    "\n",
    "    import argparse\n",
    "\n",
    "    parser = argparse.ArgumentParser(description=\"Run s4_design_sim_tool\")\n",
    "    parser.add_argument(\"config\", type=str, nargs=\"*\", help=\"TOML Configuration files\")\n",
    "    parser.add_argument(\n",
    "        \"--channels\",\n",
    "        type=str,\n",
    "        help=\"Channels e.g. all, SAT, LAT, LFL1 or comma separated list of channels\",\n",
    "        required=False,\n",
    "        default=\"all\",\n",
    "    )\n",
    "    parser.add_argument(\n",
    "        \"--site\",\n",
    "        type=str,\n",
    "        help=\"Pole, Chile or all, default all\",\n",
    "        required=False,\n",
    "        default=\"all\",\n",
    "    )\n",
    "    parser.add_argument(\n",
    "        \"--output_folder\",\n",
    "        type=str,\n",
    "        help=\"Output folder, optional\",\n",
    "        required=False,\n",
    "        default=\"output\",\n",
    "    )\n",
    "    res = parser.parse_args(args)\n",
    "    if res.site == \"all\":\n",
    "        sites = [\"Chile\", \"Pole\"]\n",
    "    else:\n",
    "        sites = [res.site]\n",
    "    sim = S4RefSimTool(res.config, output_folder=res.output_folder)\n",
    "    sim.run(channels=res.channels, sites=sites)"
   ]
  },
  {
   "cell_type": "code",
   "execution_count": null,
   "metadata": {},
   "outputs": [],
   "source": [
    "log.basicConfig(level = log.INFO)"
   ]
  },
  {
   "cell_type": "code",
   "execution_count": null,
   "metadata": {},
   "outputs": [],
   "source": [
    "sim = S4RefSimTool(\"s4_reference_design.toml\")"
   ]
  },
  {
   "cell_type": "code",
   "execution_count": null,
   "metadata": {},
   "outputs": [],
   "source": [
    "sim.run(channels=\"LFS1\", sites=[\"Pole\"])"
   ]
  },
  {
   "cell_type": "code",
   "execution_count": null,
   "metadata": {},
   "outputs": [],
   "source": [
    "%matplotlib inline"
   ]
  },
  {
   "cell_type": "code",
   "execution_count": null,
   "metadata": {},
   "outputs": [],
   "source": [
    "from astropy.io import fits"
   ]
  },
  {
   "cell_type": "code",
   "execution_count": null,
   "metadata": {},
   "outputs": [],
   "source": [
    "output_map, header = hp.read_map(\n",
    "    \"output/SAT-LFS1_pole/cmbs4_KCMB_SAT-LFS1_pole_nside512_1_of_1.fits\", (0,1,2),\n",
    "h=True)"
   ]
  },
  {
   "cell_type": "code",
   "execution_count": null,
   "metadata": {},
   "outputs": [],
   "source": [
    "header"
   ]
  },
  {
   "cell_type": "code",
   "execution_count": null,
   "metadata": {},
   "outputs": [],
   "source": [
    "header_dict = {k:v for k,v in header}\n",
    "assert header_dict[\"SW_VERS\"] == __version__\n",
    "assert header_dict[\"SOFTWARE\"] == \"s4_design_sim_tool\""
   ]
  },
  {
   "cell_type": "code",
   "execution_count": null,
   "metadata": {},
   "outputs": [],
   "source": [
    "np.min(output_map[1][output_map[1] != hp.UNSEEN]), np.max(output_map[1])"
   ]
  },
  {
   "cell_type": "code",
   "execution_count": null,
   "metadata": {},
   "outputs": [],
   "source": [
    "assert np.min(output_map[1][output_map[1] != hp.UNSEEN]) > -1e-2 and np.max(output_map[1]) < 1e-2, \\\n",
    "    \"Amplitude check failed\""
   ]
  },
  {
   "cell_type": "code",
   "execution_count": null,
   "metadata": {},
   "outputs": [],
   "source": [
    "hp.mollview(output_map[0], min=-1e-4, max=1e-4, unit=\"K\", title=\"Total I\")"
   ]
  },
  {
   "cell_type": "code",
   "execution_count": null,
   "metadata": {},
   "outputs": [],
   "source": [
    "hp.mollview(output_map[1], min=-1e-5, max=1e-5, unit=\"K\", title=\"Total Q\")"
   ]
  },
  {
   "cell_type": "code",
   "execution_count": null,
   "metadata": {},
   "outputs": [],
   "source": [
    "hp.mollview(output_map[2], min=-1e-5, max=1e-5, unit=\"K\", title=\"Total U\")"
   ]
  },
  {
   "cell_type": "code",
   "execution_count": null,
   "metadata": {},
   "outputs": [],
   "source": []
  }
 ],
 "metadata": {
  "kernelspec": {
   "display_name": "condajupynersc",
   "language": "python",
   "name": "condajupynersc"
  }
 },
 "nbformat": 4,
 "nbformat_minor": 4
}
