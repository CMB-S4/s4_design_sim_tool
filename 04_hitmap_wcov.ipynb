{
 "cells": [
  {
   "cell_type": "markdown",
   "metadata": {},
   "source": [
    "# Hitmaps and White noise covariance\n",
    "> Load and scale hitmaps and white noise covariance matrices\n",
    "- toc: True\n",
    "\n",
    "* Basically the same scaling of the noise"
   ]
  },
  {
   "cell_type": "code",
   "execution_count": null,
   "metadata": {},
   "outputs": [],
   "source": [
    "# default_exp hitmap_wcov"
   ]
  },
  {
   "cell_type": "code",
   "execution_count": null,
   "metadata": {},
   "outputs": [],
   "source": [
    "import logging as log"
   ]
  },
  {
   "cell_type": "code",
   "execution_count": null,
   "metadata": {},
   "outputs": [],
   "source": [
    "# export\n",
    "\n",
    "import healpy as hp\n",
    "import numpy as np\n",
    "from pathlib import Path\n",
    "import logging as log\n",
    "\n",
    "from s4_design_sim_tool.core import get_telescope, base_folder, simulations_observing_efficiency\n",
    "from s4_design_sim_tool.noise import get_thinfp, get_tube_years"
   ]
  },
  {
   "cell_type": "code",
   "execution_count": null,
   "metadata": {},
   "outputs": [],
   "source": [
    "# exports\n",
    "\n",
    "\n",
    "def load_hitmap_wcov(config, site, channel, realization=0):\n",
    "    \"\"\"Load hitmaps and white noise covariance for a channel\n",
    "\n",
    "    Parameters\n",
    "    ----------\n",
    "    config : dict\n",
    "        CMB-S4 configuration,\n",
    "        generally loaded from a TOML file\n",
    "    site : str\n",
    "        'Pole' or 'Chile', case doesn't matter\n",
    "    channel : str\n",
    "        Channel tag, e.g. 'MFHS1'\n",
    "    realization : int\n",
    "        Choose one of the available 8 realizations\n",
    "\n",
    "    Returns\n",
    "    -------\n",
    "    output_map : numpy array\n",
    "        Output map with all emissions combined, uses nan for missing pixels\n",
    "    \"\"\"\n",
    "    \n",
    "    # it is the same scaling for hitmap and white noise covariance matrix,\n",
    "    # which is the same as noise except squared\n",
    "    \n",
    "    telescope = get_telescope(channel)\n",
    "    \n",
    "    scaling = (365.25 * config[\"experiment\"][\"observing_efficiency\"]) / (\n",
    "        10\n",
    "        * simulations_observing_efficiency[site.lower()].get(telescope, 1)\n",
    "    )\n",
    "    scaling *= get_tube_years(config, site, channel)\n",
    "    # focal plane thinning factor of TOD simulations\n",
    "    scaling *= get_thinfp(channel)\n",
    "    \n",
    "    map_filename = (\n",
    "        Path(f\"{realization:08d}\")\n",
    "        / f\"{site.lower()}_noise_{telescope}_{channel}_filtered_telescope_all_time_all_hmap.fits\"\n",
    "    )\n",
    "    wcov_filename = (\n",
    "        Path(f\"{realization:08d}\")\n",
    "        / f\"{site.lower()}_noise_{telescope}_{channel}_filtered_telescope_all_time_all_wcov.fits\"\n",
    "    )\n",
    "    log.info(f\"Base folder: {base_folder}\")\n",
    "    log.info(f\"Reading {map_filename}\")\n",
    "    hitmap = hp.read_map(\n",
    "        Path(base_folder) / map_filename, 0, dtype=None, verbose=False\n",
    "    )\n",
    "    wcov = hp.read_map(\n",
    "        Path(base_folder) / wcov_filename, (0,1,2,3,4,5), dtype=None, verbose=False\n",
    "    )\n",
    "    hitmap[hitmap == hp.UNSEEN] = 0\n",
    "    # input map is 10 days at 100% efficiency\n",
    "    hitmap = np.round(hitmap * scaling).astype(np.int64)\n",
    "    wcov /= scaling\n",
    "    wcov[:, hitmap==0] = hp.UNSEEN\n",
    "    return hitmap, wcov"
   ]
  },
  {
   "cell_type": "markdown",
   "metadata": {},
   "source": [
    "## Available input maps"
   ]
  },
  {
   "cell_type": "code",
   "execution_count": null,
   "metadata": {},
   "outputs": [],
   "source": [
    "import toml\n",
    "\n",
    "config = toml.load(\"s4_reference_design.toml\")"
   ]
  },
  {
   "cell_type": "code",
   "execution_count": null,
   "metadata": {},
   "outputs": [],
   "source": [
    "filenames = !ls $base_folder/00000000/*noise*wcov*"
   ]
  },
  {
   "cell_type": "code",
   "execution_count": null,
   "metadata": {},
   "outputs": [],
   "source": [
    "import os.path\n",
    "for f in map(os.path.basename, filenames):\n",
    "    print(f)"
   ]
  },
  {
   "cell_type": "code",
   "execution_count": null,
   "metadata": {},
   "outputs": [],
   "source": [
    "channel = \"HFS1\"\n",
    "site = \"Pole\""
   ]
  },
  {
   "cell_type": "code",
   "execution_count": null,
   "metadata": {},
   "outputs": [],
   "source": [
    "telescope = get_telescope(channel)"
   ]
  },
  {
   "cell_type": "code",
   "execution_count": null,
   "metadata": {},
   "outputs": [],
   "source": [
    "input_map = hp.read_map(\n",
    "    base_folder + \"/00000000/\" + \\\n",
    "    f\"{site.lower()}_noise_{telescope}_{channel}_filtered_telescope_all_time_all_hmap.fits\"\n",
    ", 0)"
   ]
  },
  {
   "cell_type": "code",
   "execution_count": null,
   "metadata": {},
   "outputs": [],
   "source": [
    "from astropy.io import fits"
   ]
  },
  {
   "cell_type": "code",
   "execution_count": null,
   "metadata": {},
   "outputs": [],
   "source": [
    "fits.open(base_folder + \"/00000000/\" + \\\n",
    "    f\"{site.lower()}_noise_{telescope}_{channel}_filtered_telescope_all_time_all_wcov.fits\"\n",
    ")[1].header"
   ]
  },
  {
   "cell_type": "code",
   "execution_count": null,
   "metadata": {},
   "outputs": [],
   "source": [
    "hitmap, wcov = load_hitmap_wcov(config, site, channel, realization=0)"
   ]
  },
  {
   "cell_type": "code",
   "execution_count": null,
   "metadata": {},
   "outputs": [],
   "source": [
    "num_tubes = sum([\n",
    "    telescope[channel[:-1]] for telescope in config[\"telescopes\"][telescope].values()\n",
    "])"
   ]
  },
  {
   "cell_type": "code",
   "execution_count": null,
   "metadata": {},
   "outputs": [],
   "source": [
    "sampling_rate = hitmap.sum() / (5 * config[\"experiment\"][\"observing_efficiency\"])\n",
    "sampling_rate /= 365.25 * 24 * 3600\n",
    "sampling_rate /= 8438 # HF detectors per tube\n",
    "sampling_rate /= num_tubes"
   ]
  },
  {
   "cell_type": "code",
   "execution_count": null,
   "metadata": {},
   "outputs": [],
   "source": [
    "sampling_rate"
   ]
  },
  {
   "cell_type": "code",
   "execution_count": null,
   "metadata": {},
   "outputs": [],
   "source": [
    "# Compare mask\n",
    "np.testing.assert_allclose(input_map == 0, hitmap == 0)"
   ]
  },
  {
   "cell_type": "code",
   "execution_count": null,
   "metadata": {},
   "outputs": [],
   "source": [
    "%matplotlib inline\n",
    "import matplotlib.pyplot as plt"
   ]
  },
  {
   "cell_type": "code",
   "execution_count": null,
   "metadata": {},
   "outputs": [],
   "source": [
    "log_hitmap = np.log10(hitmap)"
   ]
  },
  {
   "cell_type": "code",
   "execution_count": null,
   "metadata": {},
   "outputs": [],
   "source": [
    "log_hitmap[np.isinf(log_hitmap)] = hp.UNSEEN"
   ]
  },
  {
   "cell_type": "code",
   "execution_count": null,
   "metadata": {},
   "outputs": [],
   "source": [
    "hp.mollview(log_hitmap, unit=\"log10(samples)\", min=3, max=8.5, title=\"Hitmap\")"
   ]
  },
  {
   "cell_type": "code",
   "execution_count": null,
   "metadata": {},
   "outputs": [],
   "source": [
    "for i,label in [(3, \"EE\"), (4, \"EB\"), (5, \"BB\")]:\n",
    "    hp.mollview(wcov[i], unit=\"$K^2_{CMB}$\", min=0, max=1e-11, title=f\"{label} White noise covariance\")"
   ]
  },
  {
   "cell_type": "code",
   "execution_count": null,
   "metadata": {},
   "outputs": [],
   "source": []
  }
 ],
 "metadata": {
  "kernelspec": {
   "display_name": "condajupynersc",
   "language": "python",
   "name": "condajupynersc"
  }
 },
 "nbformat": 4,
 "nbformat_minor": 4
}
